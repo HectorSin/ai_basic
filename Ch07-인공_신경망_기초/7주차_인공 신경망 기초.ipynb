{
 "cells": [
  {
   "cell_type": "code",
   "execution_count": 1,
   "id": "engaged-liabilities",
   "metadata": {},
   "outputs": [],
   "source": [
    "import numpy as np"
   ]
  },
  {
   "cell_type": "code",
   "execution_count": 2,
   "id": "immune-bradley",
   "metadata": {},
   "outputs": [],
   "source": [
    "# LAB7-1"
   ]
  },
  {
   "cell_type": "code",
   "execution_count": 3,
   "id": "horizontal-region",
   "metadata": {},
   "outputs": [],
   "source": [
    "# 두 입력에 곱해질 가중치 W와 편향 b를 준비하자.\n",
    "W, b = np.array([0.5, 0.5]), -0.7"
   ]
  },
  {
   "cell_type": "code",
   "execution_count": 4,
   "id": "reported-aberdeen",
   "metadata": {},
   "outputs": [],
   "source": [
    "# 가중치와 값들을 곱한 후 편향을 더한 값을 구해 그 값이 0보다 큰지 아니면 작은지 여부를 통해 출력값을 결정하는 함수 생성\n",
    "def perceptron(x1, x2):\n",
    "    x = np.array([x1, x2])\n",
    "    tmp = np.sum(W*x)+b\n",
    "    # 값이 0 이하면 -1 출력\n",
    "    if tmp <= 0: return -1\n",
    "    # 값이 0 초과이면 -1 출력\n",
    "    else: return 1"
   ]
  },
  {
   "cell_type": "code",
   "execution_count": 5,
   "id": "bibliographic-passage",
   "metadata": {},
   "outputs": [
    {
     "name": "stdout",
     "output_type": "stream",
     "text": [
      "--- 퍼셉트론으로 구현한 AND 게이트 ---\n",
      "(-1, -1) :  -1\n",
      "(-1, 1) :  -1\n",
      "(1, -1) :  -1\n",
      "(1, 1) :  1\n"
     ]
    }
   ],
   "source": [
    "print('--- 퍼셉트론으로 구현한 AND 게이트 ---')\n",
    "for xs in [(-1, -1), (-1, 1), (1, -1), (1,1)]:\n",
    "    # 위의 데이터들을 활용하여 이전에 생성한 퍼셉트론 함수를 활용하여 결과갑 출력\n",
    "    y = perceptron(xs[0], xs[1])\n",
    "    print(xs, ': ', y)"
   ]
  },
  {
   "cell_type": "code",
   "execution_count": 6,
   "id": "hourly-compound",
   "metadata": {},
   "outputs": [],
   "source": [
    "# OR 연산을 수행할 수 있도록 가중치와 편향을 조정\n",
    "W, b = np.array([0.7, 0.7]), .5"
   ]
  },
  {
   "cell_type": "code",
   "execution_count": 7,
   "id": "divine-approach",
   "metadata": {},
   "outputs": [
    {
     "name": "stdout",
     "output_type": "stream",
     "text": [
      "--- 퍼셉트론으로 구현한 OR 게이트 ---\n",
      "(-1, -1) :  -1\n",
      "(-1, 1) :  1\n",
      "(1, -1) :  1\n",
      "(1, 1) :  1\n"
     ]
    }
   ],
   "source": [
    "print('--- 퍼셉트론으로 구현한 OR 게이트 ---')\n",
    "for xs in [(-1, -1), (-1, 1), (1, -1), (1,1)]:\n",
    "    y = perceptron(xs[0], xs[1])\n",
    "    print(xs, ': ', y)"
   ]
  },
  {
   "cell_type": "code",
   "execution_count": 8,
   "id": "documentary-lighter",
   "metadata": {},
   "outputs": [],
   "source": [
    "# LAB7-2"
   ]
  },
  {
   "cell_type": "code",
   "execution_count": 9,
   "id": "capital-leave",
   "metadata": {},
   "outputs": [],
   "source": [
    "# 이전과 반대로 가중치와 편향을 0으로 초기화\n",
    "W,b = np.array([0, 0]), 0.0\n",
    "# 합습률도 준비\n",
    "learning_rate = 0.01\n",
    "# 미리 가중치와 편향들을 입력하는 방식이 아닌 학습률만큼 학습시켜 가중치를 찾아가는 방식"
   ]
  },
  {
   "cell_type": "code",
   "execution_count": 10,
   "id": "informal-yield",
   "metadata": {},
   "outputs": [],
   "source": [
    "# 계단함수인 activation() 함수 생성\n",
    "def activation(s):\n",
    "    # 양수이면 1 출력\n",
    "    if s > 0: return 1\n",
    "    # 음수이면 -1 출력\n",
    "    elif s < 0: return -1\n",
    "    # 0이면 0 출력\n",
    "    return 0"
   ]
  },
  {
   "cell_type": "code",
   "execution_count": 11,
   "id": "contained-peoples",
   "metadata": {},
   "outputs": [],
   "source": [
    "def out(x):\n",
    "    return activation (W.dot(x) + b)"
   ]
  },
  {
   "cell_type": "code",
   "execution_count": 12,
   "id": "taken-pursuit",
   "metadata": {},
   "outputs": [],
   "source": [
    "def train(x0, x1, target):\n",
    "    global W,b\n",
    "    X = np.array([x0, x1])\n",
    "    y = out(X)\n",
    "    \n",
    "    # 예측이 맞으면 아무것도 하지 않음\n",
    "    if target == y: return False\n",
    "    # 가중치가 변경되지 않았음을 반환\n",
    "    # 예측이 틀리면 학습 실시\n",
    "    # 새로 학습 실시 전 기존 값들 출력\n",
    "    print('가중치 수중전 target :{} y:{} b:{} W:{}'.format(target, y, b, W))\n",
    "    \n",
    "    # 입력 * 출력 비례하여 가중치 변경\n",
    "    W = W + learning_rate * X * target\n",
    "    # 편향: 입력이 1이라고 볼 수 있음\n",
    "    b = b + learning_rate * 1 * target\n",
    "    print('가중치 수정후 target :{} y:{} b:{} W:{}'.format(target, y, b, W))\n",
    "    return True"
   ]
  },
  {
   "cell_type": "code",
   "execution_count": 13,
   "id": "perfect-mirror",
   "metadata": {},
   "outputs": [],
   "source": [
    "# 퍼셉트론의 현재 가중치에 따라 입력에 대한 예측을 수행하는 함수\n",
    "def predict(inputs):\n",
    "    outputs = []\n",
    "    for x in inputs:\n",
    "        outputs.append (out(x))\n",
    "    return outputs"
   ]
  },
  {
   "cell_type": "code",
   "execution_count": 14,
   "id": "rolled-worth",
   "metadata": {},
   "outputs": [
    {
     "name": "stdout",
     "output_type": "stream",
     "text": [
      "가중치 수중전 target :1 y:0 b:0.0 W:[0 0]\n",
      "가중치 수정후 target :1 y:0 b:0.01 W:[-0.01 -0.01]\n",
      "가중치 수중전 target :1 y:-1 b:0.01 W:[-0.01 -0.01]\n",
      "가중치 수정후 target :1 y:-1 b:0.02 W:[0. 0.]\n",
      "iteration ------------ 0\n",
      "iteration ------------ 1\n"
     ]
    }
   ],
   "source": [
    "adjusted = 0\n",
    "for i in range(100):\n",
    "    # 훈련 데이터 1\n",
    "    adjusted += train(-1,-1,  1)\n",
    "    # 훈련 데이터 2\n",
    "    adjusted += train(-1, 1,  1)\n",
    "    # 훈련 데이터 3\n",
    "    adjusted += train( 1,-1,  1)\n",
    "    # 훈련 데이터 4\n",
    "    adjusted += train( 1, 1,  1)\n",
    "    print(\"iteration ------------\", i)\n",
    "    # 모든 훈련에 대해 가중치 변화 없으면 학습종료\n",
    "    if not adjusted: break\n",
    "    adjusted = 0"
   ]
  },
  {
   "cell_type": "code",
   "execution_count": 15,
   "id": "round-employment",
   "metadata": {},
   "outputs": [
    {
     "name": "stdout",
     "output_type": "stream",
     "text": [
      "x0 x1 y\n",
      "-1 -1  1\n",
      "-1  1  1\n",
      " 1 -1  1\n",
      " 1  1  1\n"
     ]
    }
   ],
   "source": [
    "X = [[-1, -1], [-1, 1], [1, -1], [1,1]]\n",
    "yhat = predict(X)\n",
    "print('x0 x1 y')\n",
    "for i in range(len(X)):\n",
    "    print('{0:2d} {1:2d} {2:2d}'.format(X[i][0], X[i][1], yhat[i]))"
   ]
  },
  {
   "cell_type": "code",
   "execution_count": 16,
   "id": "mediterranean-church",
   "metadata": {},
   "outputs": [],
   "source": [
    "#LAB 7-3"
   ]
  },
  {
   "cell_type": "code",
   "execution_count": 17,
   "id": "beneficial-brand",
   "metadata": {},
   "outputs": [
    {
     "name": "stdout",
     "output_type": "stream",
     "text": [
      "가중치 수중전 target :-1 y:1 b:0.02 W:[0. 0.]\n",
      "가중치 수정후 target :-1 y:1 b:0.01 W:[0.01 0.01]\n",
      "가중치 수중전 target :-1 y:1 b:0.01 W:[0.01 0.01]\n",
      "가중치 수정후 target :-1 y:1 b:0.0 W:[0.02 0.  ]\n",
      "가중치 수중전 target :-1 y:1 b:0.0 W:[0.02 0.  ]\n",
      "가중치 수정후 target :-1 y:1 b:-0.01 W:[0.01 0.01]\n",
      "iteration -------------- 0\n",
      "iteration -------------- 1\n"
     ]
    }
   ],
   "source": [
    "adjusted = 0\n",
    "for i in range(100):\n",
    "    # 훈련 데이터 1\n",
    "    adjusted += train(-1,-1, -1)\n",
    "    # 훈련 데이터 2\n",
    "    adjusted += train(-1, 1, -1)\n",
    "    # 훈련 데이터 3\n",
    "    adjusted += train( 1,-1, -1)\n",
    "    # 훈련 데이터 4\n",
    "    adjusted += train( 1, 1,  1)\n",
    "    print(\"iteration --------------\", i)\n",
    "    # 모든 훈련에 대해 가중치 변화 없으면 학습종료\n",
    "    if not adjusted: break\n",
    "    adjusted = 0"
   ]
  },
  {
   "cell_type": "code",
   "execution_count": 18,
   "id": "personal-friendly",
   "metadata": {},
   "outputs": [
    {
     "name": "stdout",
     "output_type": "stream",
     "text": [
      "x0 x1 y\n",
      "-1 -1 -1\n",
      "-1  1 -1\n",
      " 1 -1 -1\n",
      " 1  1  1\n"
     ]
    }
   ],
   "source": [
    "X = [[-1, -1], [-1, 1], [1, -1], [1,1]]\n",
    "yhat = predict(X)\n",
    "print('x0 x1 y')\n",
    "for i in range(len(X)):\n",
    "    print('{0:2d} {1:2d} {2:2d}'.format(X[i][0], X[i][1], yhat[i]))"
   ]
  },
  {
   "cell_type": "code",
   "execution_count": 19,
   "id": "declared-cowboy",
   "metadata": {},
   "outputs": [
    {
     "name": "stdout",
     "output_type": "stream",
     "text": [
      "가중치 수중전 target :1 y:-1 b:-0.01 W:[0.01 0.01]\n",
      "가중치 수정후 target :1 y:-1 b:0.0 W:[0. 0.]\n",
      "가중치 수중전 target :1 y:0 b:0.0 W:[0. 0.]\n",
      "가중치 수정후 target :1 y:0 b:0.01 W:[-0.01  0.01]\n",
      "가중치 수중전 target :1 y:-1 b:0.01 W:[-0.01  0.01]\n",
      "가중치 수정후 target :1 y:-1 b:0.02 W:[0. 0.]\n",
      "가중치 수중전 target :-1 y:1 b:0.02 W:[0. 0.]\n",
      "가중치 수정후 target :-1 y:1 b:0.01 W:[-0.01 -0.01]\n",
      "iteration -------------- 0\n",
      "iteration -------------- 1\n"
     ]
    }
   ],
   "source": [
    "adjusted = 0\n",
    "for i in range(100):\n",
    "    # 훈련 데이터 1\n",
    "    adjusted += train(-1,-1,  1)\n",
    "    # 훈련 데이터 2\n",
    "    adjusted += train(-1, 1,  1)\n",
    "    # 훈련 데이터 3\n",
    "    adjusted += train( 1,-1,  1)\n",
    "    # 훈련 데이터 4\n",
    "    adjusted += train( 1, 1, -1)\n",
    "    print(\"iteration --------------\", i)\n",
    "    # 모든 훈련에 대해 가중치 변화 없으면 학습종료\n",
    "    if not adjusted: break\n",
    "    adjusted = 0"
   ]
  },
  {
   "cell_type": "code",
   "execution_count": 20,
   "id": "acting-adapter",
   "metadata": {},
   "outputs": [
    {
     "name": "stdout",
     "output_type": "stream",
     "text": [
      "x0 x1 y\n",
      "-1 -1  1\n",
      "-1  1  1\n",
      " 1 -1  1\n",
      " 1  1 -1\n"
     ]
    }
   ],
   "source": [
    "X = [[-1, -1], [-1, 1], [1, -1], [1,1]]\n",
    "yhat = predict(X)\n",
    "print('x0 x1 y')\n",
    "for i in range(len(X)):\n",
    "    print('{0:2d} {1:2d} {2:2d}'.format(X[i][0], X[i][1], yhat[i]))"
   ]
  },
  {
   "cell_type": "code",
   "execution_count": 21,
   "id": "medium-mambo",
   "metadata": {},
   "outputs": [],
   "source": [
    "#LAB 7-4"
   ]
  },
  {
   "cell_type": "code",
   "execution_count": 22,
   "id": "working-justice",
   "metadata": {},
   "outputs": [],
   "source": [
    "# 가중치 벡터빛 학습률 지정\n",
    "W = np.array([0, 0, 0, 0])\n",
    "learning_rate = 0.01"
   ]
  },
  {
   "cell_type": "code",
   "execution_count": 23,
   "id": "deluxe-cleaner",
   "metadata": {},
   "outputs": [],
   "source": [
    "# 계단 함수 생성 0초과면 1, 0이면 0, 0미만이면 -1 출력\n",
    "def activation(s):\n",
    "    if s > 0: return 1\n",
    "    elif s < 0: return -1\n",
    "    return 0"
   ]
  },
  {
   "cell_type": "code",
   "execution_count": 24,
   "id": "czech-cooling",
   "metadata": {},
   "outputs": [],
   "source": [
    "def out(polyX) :\n",
    "    return activation(W.dot(polyX))"
   ]
  },
  {
   "cell_type": "code",
   "execution_count": 25,
   "id": "lightweight-zambia",
   "metadata": {},
   "outputs": [],
   "source": [
    "def train(x0, x1, target):\n",
    "    global W\n",
    "    polyX = np.array([x0, x1, x0*x1, 1])\n",
    "    y = out(polyX)\n",
    "    \n",
    "    # 예측이 맞으면 아무것도 하지 않음\n",
    "    if target ==y: return 0\n",
    "    # 예측이 틀리면 학습 실시\n",
    "    print('가중치 수정전 target :{} y:{} W:{}'.format(target, y, W))\n",
    "    # 입력 * 목표값에 비례하여 변경\n",
    "    W = W + learning_rate * polyX * target\n",
    "    print('가중치 수정후 target :{} y:{} W:{}'.format(target, y, W))\n",
    "    # 가중치가 변경되었음을 반환\n",
    "    return 1"
   ]
  },
  {
   "cell_type": "code",
   "execution_count": 26,
   "id": "cathedral-tract",
   "metadata": {},
   "outputs": [],
   "source": [
    "def predict(inputs):\n",
    "    outputs = []\n",
    "    for x in inputs:\n",
    "        polyX = np.array([x[0], x[1], x[0]*x[1], 1])\n",
    "        outputs.append (out(polyX))\n",
    "    return outputs"
   ]
  },
  {
   "cell_type": "code",
   "execution_count": 27,
   "id": "whole-charter",
   "metadata": {},
   "outputs": [
    {
     "name": "stdout",
     "output_type": "stream",
     "text": [
      "가중치 수정전 target :-1 y:0 W:[0 0 0 0]\n",
      "가중치 수정후 target :-1 y:0 W:[ 0.01  0.01 -0.01 -0.01]\n",
      "가중치 수정전 target :1 y:0 W:[ 0.01  0.01 -0.01 -0.01]\n",
      "가중치 수정후 target :1 y:0 W:[ 0.    0.02 -0.02  0.  ]\n",
      "가중치 수정전 target :1 y:0 W:[ 0.    0.02 -0.02  0.  ]\n",
      "가중치 수정후 target :1 y:0 W:[ 0.01  0.01 -0.03  0.01]\n",
      "가중치 수정전 target :-1 y:1 W:[ 0.01  0.01 -0.03  0.01]\n",
      "가중치 수정후 target :-1 y:1 W:[ 0.    0.   -0.04  0.  ]\n",
      "iteration ------------ 0\n",
      "iteration ------------ 1\n",
      "x0 x1 y\n",
      "-1 -1 -1\n",
      "-1  1  1\n",
      " 1 -1  1\n",
      " 1  1 -1\n"
     ]
    }
   ],
   "source": [
    "adjusted = 0\n",
    "for i in range(100):\n",
    "    # 훈련 데이터 1\n",
    "    adjusted += train(-1,-1, -1)\n",
    "    # 훈련 데이터 2\n",
    "    adjusted += train(-1, 1,  1)\n",
    "    # 훈련 데이터 3\n",
    "    adjusted += train( 1,-1,  1)\n",
    "    # 훈련 데이터 4\n",
    "    adjusted += train( 1, 1, -1)\n",
    "    print(\"iteration ------------\", i)\n",
    "    # 모든 훈련에 대해 가중치 변화 없으면 학습종료\n",
    "    if not adjusted: break\n",
    "    adjusted = 0\n",
    "X = [[-1, -1], [-1,1], [1,-1], [1,1]]\n",
    "yhat = predict(X)\n",
    "print('x0 x1 y')\n",
    "for i in range(len(X)):\n",
    "    print('{0:2d} {1:2d} {2:2d}'.format(X[i][0], X[i][1], yhat[i]))"
   ]
  }
 ],
 "metadata": {
  "kernelspec": {
   "display_name": "Python 3",
   "language": "python",
   "name": "python3"
  },
  "language_info": {
   "codemirror_mode": {
    "name": "ipython",
    "version": 3
   },
   "file_extension": ".py",
   "mimetype": "text/x-python",
   "name": "python",
   "nbconvert_exporter": "python",
   "pygments_lexer": "ipython3",
   "version": "3.8.6"
  },
  "widgets": {
   "application/vnd.jupyter.widget-state+json": {
    "state": {},
    "version_major": 2,
    "version_minor": 0
   }
  }
 },
 "nbformat": 4,
 "nbformat_minor": 5
}
