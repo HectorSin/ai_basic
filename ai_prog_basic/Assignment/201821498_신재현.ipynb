{
 "cells": [
  {
   "cell_type": "markdown",
   "metadata": {},
   "source": [
    "# 2차 프로그래밍 과제\n",
    "***\n",
    "> #### 과목: 인공지능프로그래밍언어기초\n",
    "> #### 학번: 201821498\n",
    "> #### 이름: 신재현\n",
    "> #### 학과: e-비즈니스학과\n",
    "***"
   ]
  },
  {
   "cell_type": "markdown",
   "metadata": {},
   "source": [
    "## 문제 1\n",
    "***\n",
    "* 다음 조건을 만족하는 넌센스 퀴즈 프로그램을 작성하시오.\n",
    "<조건>\n",
    "1. 넌센스 퀴즈 3개를 랜덤하게 출제\n",
    "2. 딕셔너리 자료구조 사용 (key: 문제번호)\n",
    "3. 문제당 1점 처리하여 최종 점수를 출력\n",
    "4. 총 2번 실행한 결과 제출"
   ]
  },
  {
   "cell_type": "markdown",
   "metadata": {},
   "source": [
    "***\n",
    "\n",
    "백가지 과일이 죽기 직전을 다른 말로?\n",
    "\n",
    "정답(또는 quit): 백과사전\n",
    "\n",
    "정답\n",
    "\n",
    "***\n",
    "\n",
    "깨뜨리고 칭찬 받는 것은?\n",
    "\n",
    "정답(또는 quit): 접시\n",
    "\n",
    "오답\n",
    "\n",
    "***\n",
    "\n",
    "못 사온다고 해놓고 사온 것은?\n",
    "\n",
    "정답(또는 quit): 못\n",
    "\n",
    "정답\n",
    "\n",
    "***\n",
    "\n",
    "최종 점수는 2"
   ]
  },
  {
   "cell_type": "code",
   "execution_count": 2,
   "metadata": {},
   "outputs": [],
   "source": [
    "# 랜덤함수\n",
    "import random"
   ]
  },
  {
   "cell_type": "code",
   "execution_count": 3,
   "metadata": {},
   "outputs": [],
   "source": [
    "# 딕셔너리로 넌센스 퀴즈 생성\n",
    "prob1 = {\"key\": 0, \"prob\": \"백가지 과일이 죽기 직전을 다른 말로?\", \"ans\":\"백과사전\"}\n",
    "\n",
    "prob2 = {\"key\": 1, \"prob\": \"깨뜨리고 칭찬 받는 것은?\", \"ans\":\"신기록\"}\n",
    "\n",
    "prob3 = {\"key\": 2, \"prob\": \"못 사온다고 해놓고 사온 것은?\", \"ans\":\"못\"}\n",
    "\n",
    "prob4 = {\"key\": 3, \"prob\": \"병아리가 제일 잘 먹는 약은?\", \"ans\":\"삐약\"}\n",
    "\n",
    "prob5 = {\"key\":4, \"prob\":\"개 중에 가장 아름다운 개는?\", \"ans\":\"무지개\"}\n",
    "\n",
    "prob6 = {\"key\":5, \"prob\":\"걱정이 많은 사람이 오르는 산은?\", \"ans\":\"태산\"}\n",
    "\n",
    "prob7 = {\"key\":6, \"prob\":\"다리 중 아무도 보지 못한 다리는?\", \"ans\":\"헛다리\"}\n",
    "\n",
    "problem = [prob1, prob2, prob3, prob4, prob5, prob6, prob7]"
   ]
  },
  {
   "cell_type": "code",
   "execution_count": 4,
   "metadata": {},
   "outputs": [],
   "source": [
    "# 넌센스 문제 출력 함수\n",
    "# (문제번호)\n",
    "\n",
    "def nonsense():\n",
    "    global score\n",
    "    key = random.randrange(0,7)\n",
    "    prob = problem[key]\n",
    "    print(prob[\"prob\"])\n",
    "    ans = input(\"정답(또는 quit): \")\n",
    "    if ans == \"quit\":\n",
    "        print(\"quit\")\n",
    "    else:\n",
    "        if ans == prob[\"ans\"]:\n",
    "            print(\"정답\")\n",
    "            score += 1\n",
    "        else:\n",
    "            print(\"오답, 정답은 {}입니다.\".format(prob[\"ans\"]))\n"
   ]
  },
  {
   "cell_type": "code",
   "execution_count": 5,
   "metadata": {},
   "outputs": [
    {
     "name": "stdout",
     "output_type": "stream",
     "text": [
      "깨뜨리고 칭찬 받는 것은?\n",
      "정답\n",
      "깨뜨리고 칭찬 받는 것은?\n",
      "오답, 정답은 신기록입니다.\n",
      "개 중에 가장 아름다운 개는?\n",
      "정답\n",
      "최종점수는: 2\n"
     ]
    }
   ],
   "source": [
    "score = 0\n",
    "\n",
    "for _ in range(3):\n",
    "    nonsense()\n",
    "\n",
    "print(f\"최종점수는: {score}\")"
   ]
  },
  {
   "cell_type": "code",
   "execution_count": 6,
   "metadata": {},
   "outputs": [
    {
     "name": "stdout",
     "output_type": "stream",
     "text": [
      "다리 중 아무도 보지 못한 다리는?\n",
      "정답\n",
      "걱정이 많은 사람이 오르는 산은?\n",
      "정답\n",
      "못 사온다고 해놓고 사온 것은?\n",
      "정답\n",
      "최종점수는: 3\n"
     ]
    }
   ],
   "source": [
    "# 랜덤함수\n",
    "import random\n",
    "# 딕셔너리로 넌센스 퀴즈 생성\n",
    "prob1 = {\"key\": 0, \"prob\": \"백가지 과일이 죽기 직전을 다른 말로?\", \"ans\":\"백과사전\"}\n",
    "\n",
    "prob2 = {\"key\": 1, \"prob\": \"깨뜨리고 칭찬 받는 것은?\", \"ans\":\"신기록\"}\n",
    "\n",
    "prob3 = {\"key\": 2, \"prob\": \"못 사온다고 해놓고 사온 것은?\", \"ans\":\"못\"}\n",
    "\n",
    "prob4 = {\"key\": 3, \"prob\": \"병아리가 제일 잘 먹는 약은?\", \"ans\":\"삐약\"}\n",
    "\n",
    "prob5 = {\"key\":4, \"prob\":\"개 중에 가장 아름다운 개는?\", \"ans\":\"무지개\"}\n",
    "\n",
    "prob6 = {\"key\":5, \"prob\":\"걱정이 많은 사람이 오르는 산은?\", \"ans\":\"태산\"}\n",
    "\n",
    "prob7 = {\"key\":6, \"prob\":\"다리 중 아무도 보지 못한 다리는?\", \"ans\":\"헛다리\"}\n",
    "\n",
    "problem = [prob1, prob2, prob3, prob4, prob5, prob6, prob7]\n",
    "# 넌센스 문제 출력 함수\n",
    "# (문제번호)\n",
    "\n",
    "def nonsense():\n",
    "    global score\n",
    "    key = random.randrange(0,7)\n",
    "    prob = problem[key]\n",
    "    print(prob[\"prob\"])\n",
    "    ans = input(\"정답(또는 quit): \")\n",
    "    if ans == \"quit\":\n",
    "        print(\"quit\")\n",
    "    else:\n",
    "        if ans == prob[\"ans\"]:\n",
    "            print(\"정답\")\n",
    "            score += 1\n",
    "        else:\n",
    "            print(\"오답, 정답은 {}입니다.\".format(prob[\"ans\"]))\n",
    "\n",
    "score = 0\n",
    "\n",
    "for _ in range(3):\n",
    "    nonsense()\n",
    "\n",
    "print(f\"최종점수는: {score}\")\n"
   ]
  },
  {
   "cell_type": "markdown",
   "metadata": {},
   "source": [
    "## 문제2\n",
    "***\n",
    "* 다음 조건을 만족하는 프로그램을 작성하시오.\n",
    "<조건>\n",
    "1. 파일(wlist.txt)로부터 줄 단위로 저장된 단어 읽기\n",
    "> - 단어는 영문자 소문자로만 구성되어야 함\n",
    "> - 정규식을 이용하여 대문자는 소문자로 변경, 특수문자[_, @, $, !]나 숫자는 제거\n",
    "> - 새 파일(newwlist.txt)에 줄 단위로 저장\n",
    "\n",
    "2. 새 파일에 저장된 단어들 중에 단어의 개수가 7이하인 단어의 수를 출력"
   ]
  },
  {
   "cell_type": "code",
   "execution_count": 7,
   "metadata": {},
   "outputs": [],
   "source": [
    "import re\n",
    "import sys"
   ]
  },
  {
   "cell_type": "code",
   "execution_count": 8,
   "metadata": {},
   "outputs": [],
   "source": [
    "# 파일 불러읽기\n",
    "with open(\"data\\\\wlist.txt\", \"r\") as f:\n",
    "    example = f.readlines()\n",
    "    lines = []\n",
    "    for line in example:\n",
    "        ch_line = line.strip()\n",
    "        ch_line = ch_line.lower()\n",
    "        ch_line = re.sub('[0-9]+', '', ch_line)\n",
    "        ch_line = re.sub('_', '', ch_line)\n",
    "        ch_line = re.sub('@', '', ch_line)\n",
    "        ch_line = re.sub('\\$', '', ch_line)\n",
    "        ch_line = re.sub('!', '', ch_line)\n",
    "        lines.append(ch_line)\n",
    "\n",
    "f = open('data\\\\newwlist.txt', 'w')\n",
    "\n",
    "for line in lines:\n",
    "    print(line, file= f)\n",
    "\n",
    "f.close()"
   ]
  },
  {
   "cell_type": "markdown",
   "metadata": {},
   "source": [
    "## 문제 3\n",
    "<조건>\n",
    "* 다음의 데이터를 활용하여 아래 그래프와 동일하게 작성하라.\n",
    "> * 1번 데어터: x = 77, 78, 85, 83, 73, 77, 73, 80, y = 25, 28, 19, 30, 21, 22, 17, 35\n",
    "> * 2번 데이터: x = 75, 77, 86, 86, 79, 83, 83, 88, y = 56, 57, 50, 53, 60, 53, 49, 61\n",
    "> * 3번 데이터: x = 34, 38, 38, 41, 30, 37, 41, 35, y = 22, 25, 19, 30, 21, 24, 28, 18"
   ]
  },
  {
   "cell_type": "code",
   "execution_count": 9,
   "metadata": {},
   "outputs": [],
   "source": [
    "import matplotlib.pyplot as plt\n",
    "import numpy as np"
   ]
  },
  {
   "cell_type": "code",
   "execution_count": 10,
   "metadata": {},
   "outputs": [],
   "source": [
    "# 데이터 만들기\n",
    "xData_1 = np.array([77, 78, 85, 83, 73, 77, 73, 80])\n",
    "yData_1 = np.array([25, 28, 19, 30, 21, 22, 17, 35])\n",
    "\n",
    "xData_2 = np.array([75, 77, 86, 86, 79, 83, 83, 88])\n",
    "yData_2 = np.array([56, 57, 50, 53, 60, 53, 49, 61])\n",
    "\n",
    "xData_3 = np.array([34, 38, 38, 41, 30, 37, 41, 35])\n",
    "yData_3 = np.array([22, 25, 19, 30, 21, 24, 28, 18])"
   ]
  },
  {
   "cell_type": "code",
   "execution_count": null,
   "metadata": {},
   "outputs": [
    {
     "data": {
      "image/png": "[encoded data removed]",
      "text/plain": [
       "<Figure size 640x480 with 1 Axes>"
      ]
     },
     "metadata": {},
     "output_type": "display_data"
    },
    {
     "data": {
      "image/png": "[encoded data removed]",
      "text/plain": [
       "<Figure size 640x480 with 1 Axes>"
      ]
     },
     "metadata": {},
     "output_type": "display_data"
    },
    {
     "data": {
      "image/png": "[encoded data removed]",
      "text/plain": [
       "<Figure size 640x480 with 1 Axes>"
      ]
     },
     "metadata": {},
     "output_type": "display_data"
    }
   ],
   "source": [
    "# 1번 데이터로 그래프 그리기\n",
    "plt.scatter(xData_1, yData_1, color=\"red\", marker='o')\n",
    "plt.title('Dachshund size')\n",
    "plt.xlabel('Length')\n",
    "plt.ylabel('Height')\n",
    "\n",
    "plt.show()\n",
    "\n",
    "# 2번 데이터로 그래프 그리기\n",
    "plt.scatter(xData_2, yData_2, color=\"blue\", marker='s')\n",
    "plt.title('Samoyad size')\n",
    "plt.xlabel('Length')\n",
    "plt.ylabel('Height')\n",
    "\n",
    "plt.show()\n",
    "\n",
    "# 3번 데이터로 그래프 그리기\n",
    "plt.scatter(xData_3, yData_3, color=\"green\", marker=\"^\")\n",
    "plt.title('Maltese size')\n",
    "plt.xlabel('Length')\n",
    "plt.ylabel('Height')\n",
    "\n",
    "# 총합 데이터로 그래프 그리기\n",
    "plt.scatter(xData_1, yData_1, color=\"red\", marker='o', label='Dachshund')\n",
    "plt.scatter(xData_2, yData_2, color=\"blue\", marker='^', label='Samoyad')\n",
    "plt.scatter(xData_3, yData_3, color=\"green\", marker=\"s\", label='Maltese')\n",
    "plt.xlabel('Length')\n",
    "plt.ylabel('Height')\n",
    "\n",
    "plt.legend()\n",
    "plt.show()\n",
    "\n",
    "plt.show()"
   ]
  },
  {
   "cell_type": "markdown",
   "metadata": {},
   "source": [
    "## 문제 4\n",
    "* 학생 관리 시스템을 클래스로 정의하고 아래 조건을 만족하는 프로그램을 작성하시오.\n",
    "<조건>\n",
    "* 클래스에 필요한 속성고 메소드는 다음과 같다."
   ]
  },
  {
   "cell_type": "code",
   "execution_count": 11,
   "metadata": {},
   "outputs": [],
   "source": [
    "class Person:\n",
    "    def __init__(self, name, age):\n",
    "        self.name = name\n",
    "        self.age = age\n",
    "        \n",
    "# Person 클래스를 상속받음\n",
    "class Student(Person):\n",
    "    def __init__(self, name, age, major):\n",
    "        super().__init__(name,age)\n",
    "        self.major = major\n",
    "\n",
    "class StudentManageSystem(Student):\n",
    "    def __init__(self):\n",
    "        # studentList에 학생들의 정보 저장\n",
    "        self.studentList = []\n",
    "    # 학생 등록\n",
    "    def addStudent(self, name, age, major):\n",
    "        self.studentList.append([name, age, major])\n",
    "\n",
    "    # 학생 삭제\n",
    "    def removeStudent(self, name):\n",
    "        if name in self.studentList[:][0]:\n",
    "            removeList = []\n",
    "            for list in self.studentList:\n",
    "                if name not in list:\n",
    "                    removeList.append(list)\n",
    "\n",
    "            self.studentList = removeList\n",
    "        \n",
    "        else:\n",
    "            print(\"그런 이름의 학생은 없습니다.\")\n",
    "    # 전체 학생 정보 출력\n",
    "    def printAllStuInfo(self):\n",
    "        print(self.studentList)"
   ]
  },
  {
   "cell_type": "code",
   "execution_count": 12,
   "metadata": {},
   "outputs": [],
   "source": [
    "func = StudentManageSystem()"
   ]
  },
  {
   "cell_type": "code",
   "execution_count": 13,
   "metadata": {},
   "outputs": [],
   "source": [
    "func.addStudent(\"Jack\", 23, \"business\")\n",
    "func.addStudent(\"Bumjo\", 25, \"e-business\")\n",
    "func.addStudent(\"Minsu\", 22, \"AI\")"
   ]
  },
  {
   "cell_type": "code",
   "execution_count": 14,
   "metadata": {},
   "outputs": [
    {
     "name": "stdout",
     "output_type": "stream",
     "text": [
      "[['Jack', 23, 'business'], ['Bumjo', 25, 'e-business'], ['Minsu', 22, 'AI']]\n"
     ]
    }
   ],
   "source": [
    "func.printAllStuInfo()"
   ]
  },
  {
   "cell_type": "code",
   "execution_count": 15,
   "metadata": {},
   "outputs": [],
   "source": [
    "func.removeStudent(\"Jack\")"
   ]
  },
  {
   "cell_type": "code",
   "execution_count": 16,
   "metadata": {},
   "outputs": [
    {
     "name": "stdout",
     "output_type": "stream",
     "text": [
      "[['Bumjo', 25, 'e-business'], ['Minsu', 22, 'AI']]\n"
     ]
    }
   ],
   "source": [
    "func.printAllStuInfo()"
   ]
  },
  {
   "cell_type": "code",
   "execution_count": 17,
   "metadata": {},
   "outputs": [
    {
     "name": "stdout",
     "output_type": "stream",
     "text": [
      "그런 이름의 학생은 없습니다.\n"
     ]
    }
   ],
   "source": [
    "func.removeStudent(\"Jack\")"
   ]
  }
 ],
 "metadata": {
  "kernelspec": {
   "display_name": "Python 3 (ipykernel)",
   "language": "python",
   "name": "python3"
  },
  "language_info": {
   "codemirror_mode": {
    "name": "ipython",
    "version": 3
   },
   "file_extension": ".py",
   "mimetype": "text/x-python",
   "name": "python",
   "nbconvert_exporter": "python",
   "pygments_lexer": "ipython3",
   "version": "3.9.7"
  },
  "vscode": {
   "interpreter": {
    "hash": "3196968d684371006099b3d55edeef8ed90365227a30deaef86e5d4aa8519be0"
   }
  }
 },
 "nbformat": 4,
 "nbformat_minor": 2
}
