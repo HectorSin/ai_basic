{
 "cells": [
  {
   "attachments": {},
   "cell_type": "markdown",
   "metadata": {},
   "source": [
    "# 2차 프로그래밍 과제\n",
    "***\n",
    "> #### 과목: 인공지능프로그래밍언어기초\n",
    "> #### 학번: 201821498\n",
    "> #### 이름: 신재현\n",
    "> #### 학과: e-비즈니스학과\n",
    "***"
   ]
  },
  {
   "attachments": {},
   "cell_type": "markdown",
   "metadata": {},
   "source": [
    "## 문제2\n",
    "***\n",
    "* 다음 조건을 만족하는 프로그램을 작성하시오.\n",
    "<조건>\n",
    "1. 파일(wlist.txt)로부터 줄 단위로 저장된 단어 읽기\n",
    "> - 단어는 영문자 소문자로만 구성되어야 함\n",
    "> - 정규식을 이용하여 대문자는 소문자로 변경, 특수문자[_, @, $, !]나 숫자는 제거\n",
    "> - 새 파일(newwlist.txt)에 줄 단위로 저장\n",
    "\n",
    "2. 새 파일에 저장된 단어들 중에 단어의 개수가 7이하인 단어의 수를 출력"
   ]
  },
  {
   "cell_type": "code",
   "execution_count": 13,
   "metadata": {},
   "outputs": [],
   "source": [
    "import re\n",
    "import sys"
   ]
  },
  {
   "cell_type": "code",
   "execution_count": 16,
   "metadata": {},
   "outputs": [],
   "source": [
    "# 파일 불러읽기\n",
    "with open(\"data\\\\wlist.txt\", \"r\") as f:\n",
    "    example = f.readlines()\n",
    "    lines = []\n",
    "    for line in example:\n",
    "        ch_line = line.strip()\n",
    "        ch_line = ch_line.lower()\n",
    "        ch_line = re.sub('[0-9]+', '', ch_line)\n",
    "        ch_line = re.sub('_', '', ch_line)\n",
    "        ch_line = re.sub('@', '', ch_line)\n",
    "        ch_line = re.sub('\\$', '', ch_line)\n",
    "        ch_line = re.sub('!', '', ch_line)\n",
    "        lines.append(ch_line)\n",
    "\n",
    "f = open('data\\\\newwlist.txt', 'w')\n",
    "\n",
    "for line in lines:\n",
    "    print(line, file= f)\n",
    "\n",
    "f.close()"
   ]
  }
 ],
 "metadata": {
  "kernelspec": {
   "display_name": "Python 3",
   "language": "python",
   "name": "python3"
  },
  "language_info": {
   "codemirror_mode": {
    "name": "ipython",
    "version": 3
   },
   "file_extension": ".py",
   "mimetype": "text/x-python",
   "name": "python",
   "nbconvert_exporter": "python",
   "pygments_lexer": "ipython3",
   "version": "3.10.1"
  },
  "orig_nbformat": 4,
  "vscode": {
   "interpreter": {
    "hash": "4871f9c6bfb9bc88088823ee4a8ee5de117e04a20982c15fa5eca856d4fb6c89"
   }
  }
 },
 "nbformat": 4,
 "nbformat_minor": 2
}
