{
 "cells": [
  {
   "attachments": {},
   "cell_type": "markdown",
   "metadata": {},
   "source": [
    "# 2차 프로그래밍 과제\n",
    "***\n",
    "> #### 과목: 인공지능프로그래밍언어기초\n",
    "> #### 학번: 201821498\n",
    "> #### 이름: 신재현\n",
    "> #### 학과: e-비즈니스학과\n",
    "***"
   ]
  },
  {
   "attachments": {},
   "cell_type": "markdown",
   "metadata": {},
   "source": [
    "## 문제 3\n",
    "<조건>\n",
    "* 다음의 데이터를 활용하여 아래 그래프와 동일하게 작성하라.\n",
    "> * 1번 데어터: x = 77, 78, 85, 83, 73, 77, 73, 80, y = 25, 28, 19, 30, 21, 22, 17, 35\n",
    "> * 2번 데이터: x = 75, 77, 86, 86, 79, 83, 83, 88, y = 56, 57, 50, 53, 60, 53, 49, 61\n",
    "> * 3번 데이터: x = 34, 38, 38, 41, 30, 37, 41, 35, y = 22, 25, 19, 30, 21, 24, 28, 18"
   ]
  },
  {
   "cell_type": "code",
   "execution_count": 1,
   "metadata": {},
   "outputs": [],
   "source": [
    "# 데이터 만들기\n",
    "xData_1 = [77, 78, 85, 83, 73, 77, 73, 80]\n",
    "yData_1 = [25, 28, 19, 30, 21, 22, 17, 35]\n",
    "\n",
    "xData_2 = [75, 77, 86, 86, 79, 83, 83, 88]\n",
    "yData_2 = [56, 57, 50, 53, 60, 53, 49, 61]\n",
    "\n",
    "xData_3 = [34, 38, 38, 41, 30, 37, 41, 35]\n",
    "yData_3 = [22, 25, 19, 30, 21, 24, 28, 18]"
   ]
  },
  {
   "cell_type": "code",
   "execution_count": null,
   "metadata": {},
   "outputs": [],
   "source": [
    "# 1번 데이터로 그래프 그리기\n",
    "\n",
    "# 2번 데이터로 그래프 그리기\n",
    "\n",
    "# 4번 데이터로 그래프 그리기"
   ]
  }
 ],
 "metadata": {
  "kernelspec": {
   "display_name": "Python 3",
   "language": "python",
   "name": "python3"
  },
  "language_info": {
   "codemirror_mode": {
    "name": "ipython",
    "version": 3
   },
   "file_extension": ".py",
   "mimetype": "text/x-python",
   "name": "python",
   "nbconvert_exporter": "python",
   "pygments_lexer": "ipython3",
   "version": "3.10.1"
  },
  "orig_nbformat": 4,
  "vscode": {
   "interpreter": {
    "hash": "4871f9c6bfb9bc88088823ee4a8ee5de117e04a20982c15fa5eca856d4fb6c89"
   }
  }
 },
 "nbformat": 4,
 "nbformat_minor": 2
}
