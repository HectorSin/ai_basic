{
 "cells": [
  {
   "attachments": {},
   "cell_type": "markdown",
   "metadata": {},
   "source": [
    "# 2차 프로그래밍 과제\n",
    "***\n",
    "> #### 과목: 인공지능프로그래밍언어기초\n",
    "> #### 학번: 201821498\n",
    "> #### 이름: 신재현\n",
    "> #### 학과: e-비즈니스학과\n",
    "***"
   ]
  },
  {
   "attachments": {},
   "cell_type": "markdown",
   "metadata": {},
   "source": [
    "## 문제 1\n",
    "***\n",
    "* 다음 조건을 만족하는 넌센스 퀴즈 프로그램을 작성하시오.\n",
    "<조건>\n",
    "1. 넌센스 퀴즈 3개를 랜덤하게 출제\n",
    "2. 딕셔너리 자료구조 사용 (key: 문제번호)\n",
    "3. 문제당 1점 처리하여 최종 점수를 출력\n",
    "4. 총 2번 실행한 결과 제출"
   ]
  },
  {
   "attachments": {},
   "cell_type": "markdown",
   "metadata": {},
   "source": [
    "***\n",
    "\n",
    "백가지 과일이 죽기 직전을 다른 말로?\n",
    "\n",
    "정답(또는 quit): 백과사전\n",
    "\n",
    "정답\n",
    "\n",
    "***\n",
    "\n",
    "깨뜨리고 칭찬 받는 것은?\n",
    "\n",
    "정답(또는 quit): 접시\n",
    "\n",
    "오답\n",
    "\n",
    "***\n",
    "\n",
    "못 사온다고 해놓고 사온 것은?\n",
    "\n",
    "정답(또는 quit): 못\n",
    "\n",
    "정답\n",
    "\n",
    "***\n",
    "\n",
    "최종 점수는 2"
   ]
  },
  {
   "cell_type": "code",
   "execution_count": 2,
   "metadata": {},
   "outputs": [],
   "source": [
    "# 랜덤함수\n",
    "import random"
   ]
  },
  {
   "cell_type": "code",
   "execution_count": 15,
   "metadata": {},
   "outputs": [],
   "source": [
    "# 딕셔너리로 넌센스 퀴즈 생성\n",
    "prob1 = {\"key\": 0, \"prob\": \"백가지 과일이 죽기 직전을 다른 말로?\", \"ans\":\"백과사전\"}\n",
    "\n",
    "prob2 = {\"key\": 1, \"prob\": \"깨뜨리고 칭찬 받는 것은?\", \"ans\":\"신기록\"}\n",
    "\n",
    "prob3 = {\"key\": 2, \"prob\": \"못 사온다고 해놓고 사온 것은?\", \"ans\":\"못\"}\n",
    "\n",
    "prob4 = {\"key\": 3, \"prob\": \"병아리가 제일 잘 먹는 약은?\", \"ans\":\"삐약\"}\n",
    "\n",
    "prob5 = {\"key\":4, \"prob\":\"개 중에 가장 아름다운 개는?\", \"ans\":\"무지개\"}\n",
    "\n",
    "prob6 = {\"key\":5, \"prob\":\"걱정이 많은 사람이 오르는 산은?\", \"ans\":\"태산\"}\n",
    "\n",
    "prob7 = {\"key\":6, \"prob\":\"다리 중 아무도 보지 못한 다리는?\", \"ans\":\"헛다리\"}\n",
    "\n",
    "problem = [prob1, prob2, prob3, prob4, prob5, prob6, prob7]"
   ]
  },
  {
   "cell_type": "code",
   "execution_count": 21,
   "metadata": {},
   "outputs": [],
   "source": [
    "# 넌센스 문제 출력 함수\n",
    "# (문제번호)\n",
    "\n",
    "def nonsense():\n",
    "    global score\n",
    "    key = random.randrange(0,7)\n",
    "    prob = problem[key]\n",
    "    print(prob[\"prob\"])\n",
    "    ans = input(\"정답(또는 quit): \")\n",
    "    if ans == \"quit\":\n",
    "        print(\"quit\")\n",
    "    else:\n",
    "        if ans == prob[\"ans\"]:\n",
    "            print(\"정답\")\n",
    "            score += 1\n",
    "        else:\n",
    "            print(\"오답, 정답은 {}입니다.\".format(prob[\"ans\"]))\n"
   ]
  },
  {
   "cell_type": "code",
   "execution_count": 23,
   "metadata": {},
   "outputs": [
    {
     "name": "stdout",
     "output_type": "stream",
     "text": [
      "다리 중 아무도 보지 못한 다리는?\n",
      "오답, 정답은 헛다리입니다.\n",
      "병아리가 제일 잘 먹는 약은?\n",
      "정답\n",
      "개 중에 가장 아름다운 개는?\n",
      "오답, 정답은 무지개입니다.\n",
      "최종점수는: 1\n"
     ]
    }
   ],
   "source": [
    "score = 0\n",
    "\n",
    "for _ in range(3):\n",
    "    nonsense()\n",
    "\n",
    "print(f\"최종점수는: {score}\")"
   ]
  },
  {
   "cell_type": "code",
   "execution_count": null,
   "metadata": {},
   "outputs": [],
   "source": []
  }
 ],
 "metadata": {
  "kernelspec": {
   "display_name": "Python 3",
   "language": "python",
   "name": "python3"
  },
  "language_info": {
   "codemirror_mode": {
    "name": "ipython",
    "version": 3
   },
   "file_extension": ".py",
   "mimetype": "text/x-python",
   "name": "python",
   "nbconvert_exporter": "python",
   "pygments_lexer": "ipython3",
   "version": "3.10.1"
  },
  "orig_nbformat": 4,
  "vscode": {
   "interpreter": {
    "hash": "4871f9c6bfb9bc88088823ee4a8ee5de117e04a20982c15fa5eca856d4fb6c89"
   }
  }
 },
 "nbformat": 4,
 "nbformat_minor": 2
}
