{
 "cells": [
  {
   "attachments": {},
   "cell_type": "markdown",
   "metadata": {},
   "source": [
    "# 2차 프로그래밍 과제\n",
    "***\n",
    "> #### 과목: 인공지능프로그래밍언어기초\n",
    "> #### 학번: 201821498\n",
    "> #### 이름: 신재현\n",
    "> #### 학과: e-비즈니스학과\n",
    "***"
   ]
  },
  {
   "attachments": {},
   "cell_type": "markdown",
   "metadata": {},
   "source": [
    "## 문제 4\n",
    "* 학생 관리 시스템을 클래스로 정의하고 아래 조건을 만족하는 프로그램을 작성하시오.\n",
    "<조건>\n",
    "* 클래스에 필요한 속성고 메소드는 다음과 같다."
   ]
  },
  {
   "cell_type": "code",
   "execution_count": 13,
   "metadata": {},
   "outputs": [],
   "source": [
    "class Person:\n",
    "    def __init__(self, name, age):\n",
    "        self.name = name\n",
    "        self.age = age\n",
    "        \n",
    "# Person 클래스를 상속받음\n",
    "class Student(Person):\n",
    "    def __init__(self, name, age, major):\n",
    "        super().__init__(name,age)\n",
    "        self.major = major\n",
    "\n",
    "class StudentManageSystem(Student):\n",
    "    def __init__(self):\n",
    "        # studentList에 학생들의 정보 저장\n",
    "        self.studentList = []\n",
    "    # 학생 등록\n",
    "    def addStudent(self, name, age, major):\n",
    "        self.studentList.append([name, age, major])\n",
    "\n",
    "    # 학생 삭제\n",
    "    def removeStudent(self, name):\n",
    "        if name in self.studentList[:][0]:\n",
    "            removeList = []\n",
    "            for list in self.studentList:\n",
    "                if name not in list:\n",
    "                    removeList.append(list)\n",
    "\n",
    "            self.studentList = removeList\n",
    "        \n",
    "        else:\n",
    "            print(\"그런 이름의 학생은 없습니다.\")\n",
    "    # 전체 학생 정보 출력\n",
    "    def printAllStuInfo(self):\n",
    "        print(self.studentList)"
   ]
  },
  {
   "cell_type": "code",
   "execution_count": 23,
   "metadata": {},
   "outputs": [],
   "source": [
    "func = StudentManageSystem()"
   ]
  },
  {
   "cell_type": "code",
   "execution_count": 24,
   "metadata": {},
   "outputs": [],
   "source": [
    "func.addStudent(\"Jack\", 23, \"business\")\n",
    "func.addStudent(\"Bumjo\", 25, \"e-business\")\n",
    "func.addStudent(\"Minsu\", 22, \"AI\")"
   ]
  },
  {
   "cell_type": "code",
   "execution_count": 25,
   "metadata": {},
   "outputs": [
    {
     "name": "stdout",
     "output_type": "stream",
     "text": [
      "[['Jack', 23, 'business'], ['Bumjo', 25, 'e-business'], ['Minsu', 22, 'AI']]\n"
     ]
    }
   ],
   "source": [
    "func.printAllStuInfo()"
   ]
  },
  {
   "cell_type": "code",
   "execution_count": 26,
   "metadata": {},
   "outputs": [],
   "source": [
    "func.removeStudent(\"Jack\")"
   ]
  },
  {
   "cell_type": "code",
   "execution_count": 27,
   "metadata": {},
   "outputs": [
    {
     "name": "stdout",
     "output_type": "stream",
     "text": [
      "[['Bumjo', 25, 'e-business'], ['Minsu', 22, 'AI']]\n"
     ]
    }
   ],
   "source": [
    "func.printAllStuInfo()"
   ]
  },
  {
   "cell_type": "code",
   "execution_count": 28,
   "metadata": {},
   "outputs": [
    {
     "name": "stdout",
     "output_type": "stream",
     "text": [
      "그런 이름의 학생은 없습니다.\n"
     ]
    }
   ],
   "source": [
    "func.removeStudent(\"Jack\")"
   ]
  },
  {
   "cell_type": "code",
   "execution_count": null,
   "metadata": {},
   "outputs": [],
   "source": []
  }
 ],
 "metadata": {
  "kernelspec": {
   "display_name": "Python 3",
   "language": "python",
   "name": "python3"
  },
  "language_info": {
   "codemirror_mode": {
    "name": "ipython",
    "version": 3
   },
   "file_extension": ".py",
   "mimetype": "text/x-python",
   "name": "python",
   "nbconvert_exporter": "python",
   "pygments_lexer": "ipython3",
   "version": "3.10.1"
  },
  "orig_nbformat": 4,
  "vscode": {
   "interpreter": {
    "hash": "4871f9c6bfb9bc88088823ee4a8ee5de117e04a20982c15fa5eca856d4fb6c89"
   }
  }
 },
 "nbformat": 4,
 "nbformat_minor": 2
}
