{
 "cells": [
  {
   "cell_type": "markdown",
   "metadata": {},
   "source": [
    "# 객체 지향 프로그래밍과 객체\n",
    "- 파이썬의 리스트는 'lion', 'tiger',....등의 항목을 원소(속성)로 가질 수 있음\n",
    "- sort(), append(), remove(), reverse(), pop() 라는 함수를 가지고 있음\n",
    "* 객체 - 컴퓨터 시스템에서 다양한 기능을 수행하도록 속성과 메소드를 가진 요소를 객체라고 함\n",
    "- 현리한 메소드를 쉽게 이용할 수 있는 것이 객체 지향 프로그래밍의 큰 장점"
   ]
  },
  {
   "cell_type": "code",
   "execution_count": 5,
   "metadata": {},
   "outputs": [
    {
     "data": {
      "text/plain": [
       "['rabbit', 'tiger', 'lion', 'dog', 'cat']"
      ]
     },
     "execution_count": 5,
     "metadata": {},
     "output_type": "execute_result"
    }
   ],
   "source": [
    "animals = ['lion', 'tiger', 'cat', 'dog']\n",
    "animals.sort()\n",
    "animals.append('rabbit')\n",
    "animals.reverse()\n",
    "animals"
   ]
  },
  {
   "cell_type": "code",
   "execution_count": 6,
   "metadata": {},
   "outputs": [
    {
     "data": {
      "text/plain": [
       "'cat'"
      ]
     },
     "execution_count": 6,
     "metadata": {},
     "output_type": "execute_result"
    }
   ],
   "source": [
    "s = animals.pop()\n",
    "s"
   ]
  },
  {
   "cell_type": "code",
   "execution_count": 7,
   "metadata": {},
   "outputs": [
    {
     "data": {
      "text/plain": [
       "'CAT'"
      ]
     },
     "execution_count": 7,
     "metadata": {},
     "output_type": "execute_result"
    }
   ],
   "source": [
    "s.upper()"
   ]
  },
  {
   "cell_type": "code",
   "execution_count": 8,
   "metadata": {},
   "outputs": [
    {
     "data": {
      "text/plain": [
       "1"
      ]
     },
     "execution_count": 8,
     "metadata": {},
     "output_type": "execute_result"
    }
   ],
   "source": [
    "s.find('a')"
   ]
  },
  {
   "cell_type": "markdown",
   "metadata": {},
   "source": [
    "### 예: str 클래스의 다양한 메소드\n",
    "* upper(), lower(), capitalize(), startswith().....\n",
    "\n",
    "- 수많은 클래스는 객체를 생성하기 위한 틀(타입)이다.\n",
    "- 실제로 프로그램을 하기 위해서는 객체를 생성해야 하고 객체간의 상호작용이 필요하다."
   ]
  },
  {
   "cell_type": "markdown",
   "metadata": {},
   "source": [
    "* type()은 객체의 자료형을 알려주는 함수\n",
    "* 객체들은 생성될 때 서로 다른 고유의 아이디 값을 가짐"
   ]
  },
  {
   "cell_type": "code",
   "execution_count": 9,
   "metadata": {},
   "outputs": [
    {
     "data": {
      "text/plain": [
       "list"
      ]
     },
     "execution_count": 9,
     "metadata": {},
     "output_type": "execute_result"
    }
   ],
   "source": [
    "animals = ['lion', 'tiger', 'cat', 'dog']\n",
    "type(animals)"
   ]
  },
  {
   "cell_type": "code",
   "execution_count": 10,
   "metadata": {},
   "outputs": [
    {
     "data": {
      "text/plain": [
       "140030902266624"
      ]
     },
     "execution_count": 10,
     "metadata": {},
     "output_type": "execute_result"
    }
   ],
   "source": [
    "id(animals)"
   ]
  },
  {
   "cell_type": "code",
   "execution_count": 12,
   "metadata": {},
   "outputs": [
    {
     "data": {
      "text/plain": [
       "str"
      ]
     },
     "execution_count": 12,
     "metadata": {},
     "output_type": "execute_result"
    }
   ],
   "source": [
    "s = 'tiger'\n",
    "type(s)"
   ]
  },
  {
   "cell_type": "code",
   "execution_count": 13,
   "metadata": {},
   "outputs": [
    {
     "data": {
      "text/plain": [
       "140030902590000"
      ]
     },
     "execution_count": 13,
     "metadata": {},
     "output_type": "execute_result"
    }
   ],
   "source": [
    "id(s)"
   ]
  },
  {
   "cell_type": "code",
   "execution_count": 14,
   "metadata": {},
   "outputs": [
    {
     "data": {
      "text/plain": [
       "int"
      ]
     },
     "execution_count": 14,
     "metadata": {},
     "output_type": "execute_result"
    }
   ],
   "source": [
    "n = 200\n",
    "type(n)"
   ]
  },
  {
   "cell_type": "code",
   "execution_count": 16,
   "metadata": {},
   "outputs": [
    {
     "data": {
      "text/plain": [
       "300"
      ]
     },
     "execution_count": 16,
     "metadata": {},
     "output_type": "execute_result"
    }
   ],
   "source": [
    "n.__add__(100)"
   ]
  },
  {
   "cell_type": "code",
   "execution_count": 17,
   "metadata": {},
   "outputs": [
    {
     "data": {
      "text/plain": [
       "200"
      ]
     },
     "execution_count": 17,
     "metadata": {},
     "output_type": "execute_result"
    }
   ],
   "source": [
    "n"
   ]
  },
  {
   "cell_type": "markdown",
   "metadata": {},
   "source": [
    "# 객체 지향 프로그래밍과 절차적 프로그래밍\n",
    "* 객체 지향 프로그래밍(OOP: object oriented programming)\n",
    "** 프로그램을 짤 때, 프로그램을 실제 세상에 가깝게 모델링 하는 기법\n",
    "** 컴퓨터가 수행하는 작업을 객체들 사이의 상호작용으로 표현\n",
    "\n",
    "* 절차적 프로그래밍 언어\n",
    "** 함수나 모듈을 만들어 두고 이것들을 문제해결 순서ㅔ 맞게 호출하여 수행하는 방식"
   ]
  },
  {
   "cell_type": "markdown",
   "metadata": {},
   "source": [
    "### 절차적 프로그래밍 방식\n",
    "- 데이터들이 많아지고 함수가 많아진다면 매우 많은 화살표와 함수 호출이 필요\n",
    "- 대규모 프로젝트에서는 큰 어려움\n",
    "\n",
    "### 객체 지향 프로그래밍\n",
    "- 잘 설계된 클래스를 이용하여 객체를 생성\n",
    "- 클래스는 속성과 행위를 가지도록 설계하고 이 클래스를 이용하여 실제로 상호작용하는 객체를 만들어서 프로그램에 적용시키는 방법을 사용\n",
    "\n",
    "** 객체 지향 프로그래밍 방식이 유지보수 비용이 매우 적게 들기에 최근 프로그래밍 경향은 대부분 객체 지향 방식을 선호"
   ]
  },
  {
   "cell_type": "markdown",
   "metadata": {},
   "source": [
    "# 클래스와 객체, 인스턴스\n",
    "### 클래스\n",
    "    * 프로그램 상에서 사용되는 속성과 행위를 모아놓은 집합체\n",
    "    * 객체에 설계도 혹은 템플릿, 청사진\n",
    "### 인스턴스\n",
    "    * 클래스로부터 만들어지는 각각의 개별적인 객체\n",
    "    * 서로 다른 인스턴스는 서로 다른 속성 값을 가질 수 있음"
   ]
  },
  {
   "cell_type": "code",
   "execution_count": 3,
   "metadata": {},
   "outputs": [
    {
     "name": "stdout",
     "output_type": "stream",
     "text": [
      "멍멍~~\n",
      "120\n"
     ]
    }
   ],
   "source": [
    "# 도전문제 1\n",
    "\n",
    "# Dog 클래스와 객체를 생성하라\n",
    "class Dog:\n",
    "    def __init__(self, name, color = '흰색', size = '40'):\n",
    "        self.name = name\n",
    "        self.color = color\n",
    "        self.size = size\n",
    "    def bark(self):\n",
    "        print(\"멍멍~~\")\n",
    "    def grow(self, num):\n",
    "        self.size = self.size.__add__(num)\n",
    "        print(self.size)\n",
    "        \n",
    "my_dog = Dog('james', 'blue', 100)\n",
    "\n",
    "my_dog.bark()\n",
    "my_dog.grow(20)"
   ]
  },
  {
   "cell_type": "code",
   "execution_count": 5,
   "metadata": {},
   "outputs": [
    {
     "name": "stdout",
     "output_type": "stream",
     "text": [
      "멍멍~~\n",
      "120\n",
      "멍멍~~\n"
     ]
    }
   ],
   "source": [
    "# 도전문제 2.1\n",
    "\n",
    "# 도전문제 1\n",
    "\n",
    "# Dog 클래스와 객체를 생성하라\n",
    "class Dog:\n",
    "    def __init__(self, name, color = '흰색', size = '40'):\n",
    "        self.name = name\n",
    "        self.color = color\n",
    "        self.size = size\n",
    "    def bark(self):\n",
    "        print(\"멍멍~~\")\n",
    "    def grow(self, num):\n",
    "        self.size = self.size.__add__(num)\n",
    "        print(self.size)\n",
    "        \n",
    "my_dog = Dog('james', 'blue', 100)\n",
    "my_dog2 = Dog('Jindo')\n",
    "\n",
    "my_dog.bark()\n",
    "my_dog.grow(20)\n",
    "my_dog2.bark()"
   ]
  },
  {
   "cell_type": "code",
   "execution_count": 6,
   "metadata": {},
   "outputs": [],
   "source": [
    "import math"
   ]
  },
  {
   "cell_type": "code",
   "execution_count": 8,
   "metadata": {},
   "outputs": [
    {
     "name": "stdout",
     "output_type": "stream",
     "text": [
      "78.53981633974483\n",
      "31.41592653589793\n"
     ]
    }
   ],
   "source": [
    "# 도전문제 2.2\n",
    "\n",
    "# 원을 클래스로 표현하기 / 이름, 속성(반지름), 초기화 생성자, 필요 기능(넓이, 둘레 구하기)\n",
    "\n",
    "class Circle:\n",
    "    def __init__(self, radius):\n",
    "        self.radius = radius\n",
    "    def area(self):\n",
    "        pi = math.pi\n",
    "        print((self.radius ** 2) * pi)\n",
    "    def around(self):\n",
    "        pi = math.pi\n",
    "        print((self.radius * 2) * pi)\n",
    "        \n",
    "circle = Circle(5)\n",
    "circle.area()\n",
    "circle.around()"
   ]
  },
  {
   "cell_type": "code",
   "execution_count": 19,
   "metadata": {},
   "outputs": [
    {
     "name": "stdout",
     "output_type": "stream",
     "text": [
      "내 강아지의 정보 : Jindo\n",
      "내 강아지의 정보 : jajanga\n"
     ]
    }
   ],
   "source": [
    "# 도전문제 3\n",
    "class Dog:\n",
    "    def __init__(self, name):\n",
    "        self.__name = name\n",
    "    def __str__(self):\n",
    "        return '내 강아지의 정보 : {}'.format(self.__name)\n",
    "    def set_name(self, name):\n",
    "        self.__name = name\n",
    "\n",
    "my_dog = Dog('Jindo')\n",
    "my_dog.__name = 'haha'\n",
    "print(my_dog)\n",
    "my_dog.set_name(\"jajanga\")\n",
    "print(my_dog)"
   ]
  },
  {
   "cell_type": "code",
   "execution_count": 23,
   "metadata": {},
   "outputs": [
    {
     "name": "stdout",
     "output_type": "stream",
     "text": [
      "v1 * v2 = (300, 800)\n",
      "v1 / v2 = (3.0, 2.0)\n"
     ]
    }
   ],
   "source": [
    "# 도전문제 4.1\n",
    "class Vector2D:\n",
    "    def __init__(self, x, y):\n",
    "        self.x = x\n",
    "        self.y = y\n",
    "    def __add__(self, other):\n",
    "        return Vector2D(self.x + other.x, self.y + other.y)\n",
    "    def __sub__(self, other):\n",
    "        return Vector2D(self.x - other.x, self.y - other.y)\n",
    "    def __mul__(self, other):\n",
    "        return Vector2D(self.x * other.x, self.y * other.y)\n",
    "    def __truediv__(self, other):\n",
    "        return Vector2D(self.x / other.x, self.y / other.y)\n",
    "    def __str__(self):\n",
    "        return \"({}, {})\".format(self.x, self.y)\n",
    "\n",
    "v1 = Vector2D(30, 40)\n",
    "v2 = Vector2D(10, 20)\n",
    "v3 = v1 * v2\n",
    "print('v1 * v2 = ' + str(v3))\n",
    "v4 = v1 / v2\n",
    "print('v1 / v2 = ' + str(v4))"
   ]
  },
  {
   "cell_type": "code",
   "execution_count": 25,
   "metadata": {},
   "outputs": [
    {
     "name": "stdout",
     "output_type": "stream",
     "text": [
      "-v1 = (-10, -20)\n"
     ]
    }
   ],
   "source": [
    "# 도전문제 4.2\n",
    "\n",
    "class Vector2D:\n",
    "    def __init__(self, x, y):\n",
    "        self.x = x\n",
    "        self.y = y\n",
    "    def __add__(self, other):\n",
    "        return Vector2D(self.x + other.x, self.y + other.y)\n",
    "    def __sub__(self, other):\n",
    "        return Vector2D(self.x - other.x, self.y - other.y)\n",
    "    def __mul__(self, other):\n",
    "        return Vector2D(self.x * other.x, self.y * other.y)\n",
    "    def __truediv__(self, other):\n",
    "        return Vector2D(self.x / other.x, self.y / other.y)\n",
    "    def __neg__(self):\n",
    "        return Vector2D(-self.x, -self.y)\n",
    "    def __str__(self):\n",
    "        return \"({}, {})\".format(self.x, self.y)\n",
    "    \n",
    "v1 = Vector2D(10, 20)\n",
    "print(\"-v1 = \" + str(-v1))"
   ]
  },
  {
   "cell_type": "code",
   "execution_count": 29,
   "metadata": {},
   "outputs": [
    {
     "name": "stdout",
     "output_type": "stream",
     "text": [
      "a id is 140501547883952\n",
      "b id is 140501547883952\n",
      "a id is 140501469263664\n",
      "b id is 140501547883952\n",
      "140501469263664\n",
      "Noooo\n"
     ]
    }
   ],
   "source": [
    "a = 'abc'\n",
    "print(\"a id is \" + str(id(a)))\n",
    "b = 'abc'\n",
    "print(\"b id is \" + str(id(b)))\n",
    "a = a + 'c'\n",
    "print(\"a id is \" + str(id(a)))\n",
    "print(\"b id is \" + str(id(b)))\n",
    "\n",
    "print(id(a))\n",
    "\n",
    "if a is b:\n",
    "    print(\"yeah\")\n",
    "else:\n",
    "    print(\"Noooo\")"
   ]
  },
  {
   "cell_type": "code",
   "execution_count": 4,
   "metadata": {},
   "outputs": [
    {
     "name": "stdout",
     "output_type": "stream",
     "text": [
      "v1 > v2 = True\n",
      "v1 >= v2 = True\n",
      "v1 < v2 = False\n",
      "v1 <= v2 = False\n"
     ]
    }
   ],
   "source": [
    "# 도전문제 5\n",
    "    \n",
    "class Vector2D:\n",
    "    def __init__(self, x, y):\n",
    "        self.x = x\n",
    "        self.y = y\n",
    "    def __add__(self, other):\n",
    "        return Vector2D(self.x + other.x, self.y + other.y)\n",
    "    def __sub__(self, other):\n",
    "        return Vector2D(self.x - other.x, self.y - other.y)\n",
    "    def __mul__(self, other):\n",
    "        return Vector2D(self.x * other.x, self.y * other.y)\n",
    "    def __truediv__(self, other):\n",
    "        return Vector2D(self.x / other.x, self.y / other.y)\n",
    "    def __neg__(self):\n",
    "        return Vector2D(-self.x, -self.y)\n",
    "    def __lt__(self, other):\n",
    "        return ((self.x ** 2) + (self.y ** 2)) < ((other.x ** 2) + (other.y ** 2))\n",
    "    def __le__(self, other):\n",
    "        return ((self.x ** 2) + (self.y ** 2)) <= ((other.x ** 2) + (other.y ** 2))\n",
    "    def __ge__(self, other):\n",
    "        return ((self.x ** 2) + (self.y ** 2)) >= ((other.x ** 2) + (other.y ** 2))\n",
    "    def __gt__(self, other):\n",
    "        return ((self.x ** 2) + (self.y ** 2)) > ((other.x ** 2) + (other.y ** 2))\n",
    "    def __eq__(self, other):\n",
    "        return ((self.x ** 2) + (self.y ** 2)) == ((other.x ** 2) + (other.y ** 2))\n",
    "    def __ne__(self, other):\n",
    "        return ((self.x ** 2) + (self.y ** 2)) != ((other.x ** 2) + (other.y ** 2))\n",
    "    def __str__(self):\n",
    "        return \"({}, {})\".format(self.x, self.y)\n",
    "    \n",
    "v1 = Vector2D(30, 40)\n",
    "v2 = Vector2D(10, 20)\n",
    "print(\"v1 > v2 = \" + str(v1 > v2))\n",
    "print(\"v1 >= v2 = \" + str(v1 >= v2))\n",
    "print(\"v1 < v2 = \" + str(v1 < v2))\n",
    "print(\"v1 <= v2 = \" + str(v1 <= v2))"
   ]
  }
 ],
 "metadata": {
  "kernelspec": {
   "display_name": "Python 3",
   "language": "python",
   "name": "python3"
  },
  "language_info": {
   "codemirror_mode": {
    "name": "ipython",
    "version": 3
   },
   "file_extension": ".py",
   "mimetype": "text/x-python",
   "name": "python",
   "nbconvert_exporter": "python",
   "pygments_lexer": "ipython3",
   "version": "3.8.5"
  },
  "widgets": {
   "application/vnd.jupyter.widget-state+json": {
    "state": {},
    "version_major": 2,
    "version_minor": 0
   }
  }
 },
 "nbformat": 4,
 "nbformat_minor": 5
}
