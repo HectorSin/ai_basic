{
  "nbformat": 4,
  "nbformat_minor": 0,
  "metadata": {
    "colab": {
      "provenance": []
    },
    "kernelspec": {
      "name": "python3",
      "display_name": "Python 3"
    },
    "language_info": {
      "name": "python"
    }
  },
  "cells": [
    {
      "cell_type": "code",
      "execution_count": 1,
      "metadata": {
        "colab": {
          "base_uri": "https://localhost:8080/"
        },
        "id": "BBVTjbZxOafi",
        "outputId": "1fb43859-183e-4244-e66f-50ee9325189e"
      },
      "outputs": [
        {
          "output_type": "stream",
          "name": "stdout",
          "text": [
            "1000000\n",
            "가로: 8, 세로: 3, 높이: 4\n"
          ]
        }
      ],
      "source": [
        "# 문제 1\n",
        "\n",
        "class Box:\n",
        "    def __init__(self, l, h, d):\n",
        "        self.length = l\n",
        "        self.height = h\n",
        "        self.depth = d\n",
        "\n",
        "    def __str__(self):\n",
        "        return f\"가로: {self.length}, 세로: {self.height}, 높이: {self.depth}\"\n",
        "\n",
        "    def setLength(self, l):\n",
        "        self.length = l\n",
        "    \n",
        "    def setHeight(self, h):\n",
        "        self.height = h\n",
        "    \n",
        "    def setDepth(self, d):\n",
        "        self.depth = d\n",
        "\n",
        "    def volume(self):\n",
        "        self.volume = self.length * self.height * self.depth\n",
        "        return self.volume\n",
        "\n",
        "b1 = Box(100, 100, 100)\n",
        "\n",
        "print(b1.volume())\n",
        "\n",
        "b1.setDepth(4)\n",
        "b1.setHeight(3)\n",
        "b1.setLength(8)\n",
        "\n",
        "print(b1)"
      ]
    },
    {
      "cell_type": "code",
      "source": [
        "# 문제 2\n",
        "# 강아지를 나타내는 클래스 Dog작성\n",
        "# 이름, 나이, 색상 속성을 가짐\n",
        "class Dog:\n",
        "    count = 0\n",
        "\n",
        "    def __init__(self, name, age, color):\n",
        "        self.name = name\n",
        "        self.age = age\n",
        "        self.color = color\n",
        "        Dog.count += 1\n",
        "\n",
        "    def __str__(self):\n",
        "        return f\"이름: {self.name}, 나이: {self.age}, 색: {self.color}\"\n",
        "\n",
        "    def dog_num(self):\n",
        "        print(f\"지금까지 생성된 강아지의 수 = {Dog.count}\")\n",
        "\n",
        "b1 = Dog(\"Molly\", 10, \"brown\")\n",
        "b2 = Dog(\"Daisy\", 6, \"black\")\n",
        "b3 = Dog(\"Bella\", 7, \"white\")\n",
        "\n",
        "b1.dog_num()\n",
        "b2.dog_num()\n",
        "b3.dog_num()\n",
        "print(Dog.count)"
      ],
      "metadata": {
        "colab": {
          "base_uri": "https://localhost:8080/"
        },
        "id": "Ka7M7OL4OgCK",
        "outputId": "14605544-fa5e-4a77-8bb8-241ac3bf117d"
      },
      "execution_count": 2,
      "outputs": [
        {
          "output_type": "stream",
          "name": "stdout",
          "text": [
            "지금까지 생성된 강아지의 수 = 3\n",
            "지금까지 생성된 강아지의 수 = 3\n",
            "지금까지 생성된 강아지의 수 = 3\n",
            "3\n"
          ]
        }
      ]
    },
    {
      "cell_type": "code",
      "source": [
        "# 문제 3\n",
        "# 마술사에게 보내면 강아지의 나이를 5살 어리게 만든다\n",
        "# 마술사를 나타내는 클래스 Witch는  younger() 메소드를 가짐\n",
        "\n",
        "# 이전에 생성한 Dog()클래스\n",
        "class Dog:\n",
        "    count = 0\n",
        "\n",
        "    def __init__(self, name, age, color):\n",
        "        self.name = name\n",
        "        self.age = age\n",
        "        self.color = color\n",
        "        Dog.count += 1\n",
        "\n",
        "    def __str__(self):\n",
        "        return f\"이름: {self.name}, 나이: {self.age}, 색: {self.color}\"\n",
        "\n",
        "    def dog_num(self):\n",
        "        print(f\"지금까지 생성된 강아지의 수 = {Dog.count}\")\n",
        "\n",
        "# Witch 클래스\n",
        "class Witch:\n",
        "  def younger(self, dog):\n",
        "    dog.age -= 5\n",
        "\n",
        "witch = Witch()\n",
        "\n",
        "b1 = Dog(\"Molly\", 10, \"brown\")\n",
        "b2 = Dog(\"Daisy\", 6, \"black\")\n",
        "b3 = Dog(\"Bella\", 7, \"white\")\n",
        "\n",
        "print(b1)\n",
        "print(b2)\n",
        "print(b3)\n",
        "\n",
        "print(\"Witch한테 보내기\")\n",
        "witch.younger(b1)\n",
        "witch.younger(b2)\n",
        "witch.younger(b3)\n",
        "\n",
        "print(b1)\n",
        "print(b2)\n",
        "print(b3)"
      ],
      "metadata": {
        "colab": {
          "base_uri": "https://localhost:8080/"
        },
        "id": "QXsWdMqrOq00",
        "outputId": "935787ea-b594-437c-bf4b-f26f5238ce25"
      },
      "execution_count": 3,
      "outputs": [
        {
          "output_type": "stream",
          "name": "stdout",
          "text": [
            "이름: Molly, 나이: 10, 색: brown\n",
            "이름: Daisy, 나이: 6, 색: black\n",
            "이름: Bella, 나이: 7, 색: white\n",
            "Witch한테 보내기\n",
            "이름: Molly, 나이: 5, 색: brown\n",
            "이름: Daisy, 나이: 1, 색: black\n",
            "이름: Bella, 나이: 2, 색: white\n"
          ]
        }
      ]
    },
    {
      "cell_type": "code",
      "source": [
        "# 문제4\n",
        "# 원을 나타내는 클래스 Circle 생성\n",
        "# Circle 클래스에 특별 메소드 추가하여 >와 < 그리고 == 연산자를 비교할 수 있도록 결정\n",
        "class Circle:\n",
        "  def __init__(self, radius):\n",
        "    self.radius = radius\n",
        "\n",
        "  def __gt__(self, other):\n",
        "    return self.radius > other.radius\n",
        "  def __lt__(self, other):\n",
        "    return self.radius < other.radius\n",
        "  def __eq__(self, other):\n",
        "   return self.radius == other.radius\n",
        "\n",
        "c1 = Circle(10)\n",
        "c2 = Circle(7)\n",
        "\n",
        "print(f\"원 #1 = 반지름 {c1.radius}\")\n",
        "print(f\"원 #2 = 반지름 {c2.radius}\")\n",
        "print(f\"원 #1 > 원 #2는 {c1>c2}입니다.\")\n",
        "print(f\"원 #1 < 원 #2는 {c1<c2}입니다.\")\n",
        "print(f\"원 #1 == 원 #2는 {c1==c2}입니다.\")"
      ],
      "metadata": {
        "colab": {
          "base_uri": "https://localhost:8080/"
        },
        "id": "uahP22TPPwHV",
        "outputId": "7eaa37bd-a58a-497e-e2b1-04795bc5f99d"
      },
      "execution_count": 4,
      "outputs": [
        {
          "output_type": "stream",
          "name": "stdout",
          "text": [
            "원 #1 = 반지름 10\n",
            "원 #2 = 반지름 7\n",
            "원 #1 > 원 #2는 True입니다.\n",
            "원 #1 < 원 #2는 False입니다.\n",
            "원 #1 == 원 #2는 False입니다.\n"
          ]
        }
      ]
    },
    {
      "cell_type": "code",
      "source": [
        "# 문제5\n",
        "# Person 클래스 정의 (이름, 나이)\n",
        "# 객체의 정보를 출력하는 show()메소드 정의\n",
        "\n",
        "class Person:\n",
        "  def __init__(self, name, age):\n",
        "    self.name = name\n",
        "    self.age = age\n",
        "  def show(self):\n",
        "    print(f\"이 사람의 이름은 {self.name}이고 나이는 {self.age}입니다.\")\n",
        "    \n",
        "# Person 클래스를 상속받아서 Employee 클래스 정의 (연봉)\n",
        "# show() 메소드를 재정의하여 연봉도 추가로 출력\n",
        "class Employee(Person):\n",
        "  def __init__(self, name, age, salary):\n",
        "    super().__init__(name, age)\n",
        "    self.salary = salary\n",
        "  def show(self):\n",
        "    print(f\"이 사람의 이름은 {self.name}이고 나이는 {self.age}이고 연봉은 {self.salary}만원 입니다.\")\n",
        "\n",
        "\n",
        "p1 = Employee(\"Kim\", 27, 5400)\n",
        "p1.show()"
      ],
      "metadata": {
        "colab": {
          "base_uri": "https://localhost:8080/"
        },
        "id": "CAbsb8TZS7TT",
        "outputId": "59f61538-62e3-4cb7-90f4-26781de6fe9c"
      },
      "execution_count": 5,
      "outputs": [
        {
          "output_type": "stream",
          "name": "stdout",
          "text": [
            "이 사람의 이름은 Kim이고 나이는 27이고 연봉은 5400만원 입니다.\n"
          ]
        }
      ]
    },
    {
      "cell_type": "code",
      "source": [
        "# 문제6\n",
        "# 일반적인 사람을 나타내는 Person 클래스를 정의(이름, 나이)\n",
        "# Hello를 출력하는 비공개 메서드 정의\n",
        "# 비공개 메서드 정의하는 메서드 정의\n",
        "\n",
        "class Person:\n",
        "  def __init__(self, name, age):\n",
        "    self.name = name\n",
        "    self.age = age\n",
        "\n",
        "  def __Hello(self):\n",
        "    print(f\"안녕하세요 {self.name}님 좋은하루 보내세요\")\n",
        "  \n",
        "  def greet(self):\n",
        "    self.__Hello()\n",
        "\n",
        "p1 = Person(\"Kim\", 25)\n",
        "p1.greet()"
      ],
      "metadata": {
        "colab": {
          "base_uri": "https://localhost:8080/"
        },
        "id": "Q6e_iPPjV7mc",
        "outputId": "0781406e-e0b9-418f-d08b-1936ee719449"
      },
      "execution_count": 6,
      "outputs": [
        {
          "output_type": "stream",
          "name": "stdout",
          "text": [
            "안녕하세요 Kim님 좋은하루 보내세요\n"
          ]
        }
      ]
    },
    {
      "cell_type": "code",
      "source": [
        "# 문제7\n",
        "# 사용자의 아이디와 패스워드를 저장하는 리스트 생성 (Account 클래스)\n",
        "# 각 입력값에 맞는 함수 만들기 (아이디 등록, 로그인, 모든 사용자 출력, 종료)\n",
        "\n",
        "class Account:\n",
        "  def __init__(self, id, pw):\n",
        "    self.id = id\n",
        "    self.pw = pw\n",
        "\n",
        "accounts = []\n",
        "\n",
        "def register():\n",
        "  id = input(\"아이디를 입력하세요: \")\n",
        "  pw = input(\"패스워드를 입력하세요: \")\n",
        "  accounts.append(Account(id, pw))\n",
        "\n",
        "def login():\n",
        "  l_id = input(\"아이디를 입력하세요: \")\n",
        "  l_pw = input(\"비밀번호를 입력하세요: \")\n",
        "  for ac in accounts:\n",
        "    if ac.id == l_id and ac.pw == l_pw:\n",
        "      print(\"로그인 성공\")\n",
        "      return\n",
        "  print(\"로그인 실패\")\n",
        "\n",
        "def get_all_user():\n",
        "  trial = 0\n",
        "  for ac in accounts:\n",
        "    print(f\"{trial + 1}번째 사용자의 아이디는 {ac.id}, 비밀번호는 {ac.pw}\")\n",
        "    trial += 1\n",
        "\n",
        "# while 사용하여 계속해서 입력값 얻기\n",
        "action = True\n",
        "while action:\n",
        "  choice = int(input(\"\"\"\n",
        "  =======================================================\n",
        "  1. 아이디 등록하기\n",
        "  2. 로그인하기\n",
        "  3. 모든 사용자 아이디 출력\n",
        "  4. 종료\n",
        "  =======================================================\n",
        "  번호를 입력하시오: \"\"\"))\n",
        "\n",
        "  if choice == 1:\n",
        "    # 아이디 등록 함수\n",
        "    register()\n",
        "\n",
        "  if choice == 2:\n",
        "    # 로그인 함수\n",
        "    login()\n",
        "\n",
        "  if choice == 3:\n",
        "    # 모든 사용자 아이디 출력\n",
        "    get_all_user()\n",
        "  if choice == 4:\n",
        "    action = False"
      ],
      "metadata": {
        "colab": {
          "base_uri": "https://localhost:8080/"
        },
        "id": "sGetSWZ-avdF",
        "outputId": "15198b43-20a7-4fa2-9139-a604e8aeee04"
      },
      "execution_count": 7,
      "outputs": [
        {
          "name": "stdout",
          "output_type": "stream",
          "text": [
            "\n",
            "  =======================================================\n",
            "  1. 아이디 등록하기\n",
            "  2. 로그인하기\n",
            "  3. 모든 사용자 아이디 출력\n",
            "  4. 종료\n",
            "  =======================================================\n",
            "  번호를 입력하시오: 1\n",
            "아이디를 입력하세요: miinsu001\n",
            "패스워드를 입력하세요: jaesu002\n",
            "\n",
            "  =======================================================\n",
            "  1. 아이디 등록하기\n",
            "  2. 로그인하기\n",
            "  3. 모든 사용자 아이디 출력\n",
            "  4. 종료\n",
            "  =======================================================\n",
            "  번호를 입력하시오: 1\n",
            "아이디를 입력하세요: abc\n",
            "패스워드를 입력하세요: ddc\n",
            "\n",
            "  =======================================================\n",
            "  1. 아이디 등록하기\n",
            "  2. 로그인하기\n",
            "  3. 모든 사용자 아이디 출력\n",
            "  4. 종료\n",
            "  =======================================================\n",
            "  번호를 입력하시오: 2\n",
            "아이디를 입력하세요: abc\n",
            "비밀번호를 입력하세요: ddc\n",
            "로그인 성공\n",
            "\n",
            "  =======================================================\n",
            "  1. 아이디 등록하기\n",
            "  2. 로그인하기\n",
            "  3. 모든 사용자 아이디 출력\n",
            "  4. 종료\n",
            "  =======================================================\n",
            "  번호를 입력하시오: 3\n",
            "1번째 사용자의 아이디는 miinsu001, 비밀번호는 jaesu002\n",
            "2번째 사용자의 아이디는 abc, 비밀번호는 ddc\n",
            "\n",
            "  =======================================================\n",
            "  1. 아이디 등록하기\n",
            "  2. 로그인하기\n",
            "  3. 모든 사용자 아이디 출력\n",
            "  4. 종료\n",
            "  =======================================================\n",
            "  번호를 입력하시오: 4\n"
          ]
        }
      ]
    },
    {
      "cell_type": "code",
      "source": [
        "# 문제8\n",
        "# 정적 메소드 사용하기\n",
        "class Calc:\n",
        "  @staticmethod\n",
        "  def add(a,b):\n",
        "    print(a+b)\n",
        "\n",
        "  @staticmethod\n",
        "  def mul(a,b):\n",
        "    print(a*b)\n",
        "\n",
        "Calc.add(10,20)\n",
        "Calc.mul(10,20)"
      ],
      "metadata": {
        "id": "cCRGETLTkdTV",
        "colab": {
          "base_uri": "https://localhost:8080/"
        },
        "outputId": "6310f39a-51cf-4c87-d1ec-c8e64d6e4793"
      },
      "execution_count": 8,
      "outputs": [
        {
          "output_type": "stream",
          "name": "stdout",
          "text": [
            "30\n",
            "200\n"
          ]
        }
      ]
    },
    {
      "cell_type": "code",
      "source": [
        "# 문제9\n",
        "# 클래스 메소드 사용하기\n",
        "class Person:\n",
        "  # 클래스 속성\n",
        "  count = 0\n",
        "\n",
        "  def __init__(self):\n",
        "    Person.count += 1\n",
        "\n",
        "  @classmethod\n",
        "  def print_count(cls):\n",
        "    print(f\"{cls.count}명의 인스턴스가 존재합니다.\")\n",
        "  \n",
        "james = Person()\n",
        "minsu = Person()\n",
        "\n",
        "Person.print_count()"
      ],
      "metadata": {
        "id": "AiDHW-MTlMb4",
        "colab": {
          "base_uri": "https://localhost:8080/"
        },
        "outputId": "93f55885-0bdf-4eda-c8f6-9d305becbf9c"
      },
      "execution_count": 9,
      "outputs": [
        {
          "output_type": "stream",
          "name": "stdout",
          "text": [
            "2명의 인스턴스가 존재합니다.\n"
          ]
        }
      ]
    }
  ]
}