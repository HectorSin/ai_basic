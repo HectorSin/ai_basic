{
 "cells": [
  {
   "cell_type": "markdown",
   "metadata": {
    "slideshow": {
     "slide_type": "slide"
    }
   },
   "source": [
    "# 딥러닝과 텐서플로\n",
    "## 덧셈과 문자열 접합을 하고 난수 2개를 더하는 프로그램"
   ]
  },
  {
   "cell_type": "code",
   "execution_count": 5,
   "metadata": {},
   "outputs": [
    {
     "name": "stdout",
     "output_type": "stream",
     "text": [
      "49\n",
      "pythonis exciting\n"
     ]
    }
   ],
   "source": [
    "# 연산자 오버로딩 예시\n",
    "# +는 두 정수를 더하는 연산자\n",
    "print(12+37)\n",
    "# +는 두 문자열을 접합하는 연산자\n",
    "print(\"python\" + \"is exciting\")"
   ]
  },
  {
   "cell_type": "code",
   "execution_count": 6,
   "metadata": {},
   "outputs": [],
   "source": [
    "# 라이브러리 불러오기\n",
    "import random"
   ]
  },
  {
   "cell_type": "code",
   "execution_count": 7,
   "metadata": {},
   "outputs": [],
   "source": [
    "# 정수 난수 생성\n",
    "\n",
    "# [10,20] 사이의 난수를 생성하고 변수 a에 대입\n",
    "a=random.randint(10,20)\n",
    "# [10,20] 사이의 난수를 생성하고 변수 b에 대입\n",
    "b=random.randint(10,20)"
   ]
  },
  {
   "cell_type": "code",
   "execution_count": 8,
   "metadata": {},
   "outputs": [
    {
     "name": "stdout",
     "output_type": "stream",
     "text": [
      "14 17 31\n"
     ]
    }
   ],
   "source": [
    "# 덧셈을 하고 결과를 출력\n",
    "\n",
    "# a와 b를 더하여 변수 c에 대입\n",
    "c=a+b\n",
    "# 변수 a, b, c를 출력\n",
    "print(a,b,c)"
   ]
  }
 ],
 "metadata": {
  "kernelspec": {
   "display_name": "Python 3.10.7 64-bit",
   "language": "python",
   "name": "python3"
  },
  "language_info": {
   "codemirror_mode": {
    "name": "ipython",
    "version": 3
   },
   "file_extension": ".py",
   "mimetype": "text/x-python",
   "name": "python",
   "nbconvert_exporter": "python",
   "pygments_lexer": "ipython3",
   "version": "3.10.7"
  },
  "orig_nbformat": 4,
  "vscode": {
   "interpreter": {
    "hash": "3196968d684371006099b3d55edeef8ed90365227a30deaef86e5d4aa8519be0"
   }
  }
 },
 "nbformat": 4,
 "nbformat_minor": 2
}
