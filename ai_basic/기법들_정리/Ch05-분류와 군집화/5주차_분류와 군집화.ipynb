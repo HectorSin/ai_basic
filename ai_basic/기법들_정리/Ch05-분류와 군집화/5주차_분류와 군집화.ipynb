{
 "cells": [
  {
   "cell_type": "code",
   "execution_count": 1,
   "id": "phantom-immunology",
   "metadata": {},
   "outputs": [],
   "source": [
    "import numpy as np\n",
    "import pandas as pd\n",
    "import matplotlib.pyplot as plt\n",
    "from sklearn import metrics\n",
    "from sklearn import cluster\n",
    "from sklearn.neighbors import KNeighborsClassifier\n",
    "from sklearn.datasets import load_iris\n",
    "from sklearn.model_selection import train_test_split\n",
    "from sklearn.metrics import confusion_matrix"
   ]
  },
  {
   "cell_type": "code",
   "execution_count": 2,
   "id": "informational-protein",
   "metadata": {},
   "outputs": [
    {
     "data": {
      "image/png": "[encoded data removed]",
      "text/plain": [
       "<Figure size 432x288 with 1 Axes>"
      ]
     },
     "metadata": {
      "needs_background": "light"
     },
     "output_type": "display_data"
    }
   ],
   "source": [
    "# 데이터 입력 (닥스훈트/사모에드)\n",
    "# 닥스훈트의 길이와 높이 데이터 입력\n",
    "dach_length = [77, 78, 85, 83, 73, 77, 73, 80]\n",
    "dach_height = [25, 28, 29, 30, 21, 22, 17, 35]\n",
    "# 사모에드의 길이와 높이 데이터 입력\n",
    "samo_length = [75, 77, 86, 86, 79, 83, 83, 88]\n",
    "samo_height = [56, 57, 50, 53, 60, 53, 49, 61]\n",
    "\n",
    "# 닥스훈트 데이터를 붉은색으로 그래프에 표시\n",
    "plt.scatter(dach_length, dach_height, c='red', label='Dachshund')\n",
    "# 사모에드의 데이터를 푸른색으로 그래프에 표시/마커를 따로 명시해 도형모양 변경\n",
    "plt.scatter(samo_length, samo_height, c='blue', marker='^', label='Samoyed')\n",
    "\n",
    "# 그래프의 x축 레이블 'Length'\n",
    "plt.xlabel('Length')\n",
    "# 그래프의 y축 레이블 'Height'\n",
    "plt.ylabel('Height')\n",
    "# 그래프의 제목 레이블 'Title'\n",
    "plt.title('Title')\n",
    "# 그래프의 설명 위치 '좌측상단'\n",
    "plt.legend(loc='upper left')\n",
    "\n",
    "# 그래프 보여주기\n",
    "plt.show()"
   ]
  },
  {
   "cell_type": "code",
   "execution_count": 3,
   "id": "hazardous-detector",
   "metadata": {},
   "outputs": [
    {
     "data": {
      "image/png": "[encoded data removed]",
      "text/plain": [
       "<Figure size 432x288 with 1 Axes>"
      ]
     },
     "metadata": {
      "needs_background": "light"
     },
     "output_type": "display_data"
    }
   ],
   "source": [
    "# 새로운 임이의 데이터 추가\n",
    "newdata_length = [79]\n",
    "newdata_height = [35]\n",
    "\n",
    "# 닥스훈트 데이터를 붉은색으로 그래프에 표시\n",
    "plt.scatter(dach_length, dach_height, c='red', label='Dachshund')\n",
    "# 사모에드의 데이터를 푸른색으로 그래프에 표시/마커를 따로 명시해 도형모양 변경\n",
    "plt.scatter(samo_length, samo_height, c='blue', marker='^', label='Samoyed')\n",
    "# 새로운데이터 추가해서 그래프에 그리기\n",
    "plt.scatter(newdata_length, newdata_height, s=100, c ='green', marker='p', label='New Data')\n",
    "\n",
    "# 그래프의 x축 레이블 'Length'\n",
    "plt.xlabel('Length')\n",
    "# 그래프의 y축 레이블 'Height'\n",
    "plt.ylabel('Height')\n",
    "# 그래프의 제목 레이블 'Title'\n",
    "plt.title('Title')\n",
    "# 그래프의 설명 위치 '좌측상단'\n",
    "plt.legend(loc='upper left')\n",
    "\n",
    "# 그래프 보여주기\n",
    "plt.show()"
   ]
  },
  {
   "cell_type": "code",
   "execution_count": 4,
   "id": "specialized-latex",
   "metadata": {},
   "outputs": [],
   "source": [
    "# 모델 훈련을 위해 닥스훈트의 몸길이&높이 데이터를 묶어 d_data 배열 생성\n",
    "d_data = np.column_stack((dach_length, dach_height))\n",
    "\n",
    "# d_dat 배열의 크기와 같은 0으로 이루어진 배열[0,0,...] 생성\n",
    "d_label = np.zeros(len(d_data))"
   ]
  },
  {
   "cell_type": "code",
   "execution_count": 5,
   "id": "synthetic-singing",
   "metadata": {},
   "outputs": [],
   "source": [
    "# 동일한 명령으로 사모예드 데이터 s_data배열 생성\n",
    "s_data = np.column_stack((samo_length, samo_height))\n",
    "\n",
    "# label도 동일하게 하지만 이번에는 1로 이루어진 배열 생성\n",
    "s_label = np.ones(len(s_data))\n",
    "\n",
    "# 이전에 추가한 새로운 데이터도 비슷한 형식으로 배열 생성\n",
    "newdata = [[79, 35]]"
   ]
  },
  {
   "cell_type": "code",
   "execution_count": 6,
   "id": "animated-script",
   "metadata": {},
   "outputs": [],
   "source": [
    "# 새로 생성한 배열과 레이블 각각합치기\n",
    "dogs = np.concatenate((d_data, s_data))\n",
    "labels = np.concatenate((d_label, s_label))"
   ]
  },
  {
   "cell_type": "code",
   "execution_count": 7,
   "id": "upper-general",
   "metadata": {},
   "outputs": [
    {
     "name": "stdout",
     "output_type": "stream",
     "text": [
      "데이터: [[79, 35]]에 대한 판정결과는: Dachshund입니다.\n",
      "데이터: [[77, 30], [75, 56]]에 대한 판정결과는: Dachshund와 Samoyed입니다.\n"
     ]
    }
   ],
   "source": [
    "# 키값이 0일 때 Dachshund, 1일 때 Samoyed형식으로 딕셔너리 생성\n",
    "dog_classes = {0:'Dachshund', 1:'Samoyed'}\n",
    "# 나중에 결과를 출력할때 사용자가 보기 쉽게 레이블하기 위해 사용\n",
    "\n",
    "# KNN 분류기에서 사용할 k값 지정\n",
    "k = 3\n",
    "\n",
    "# KNN 분류기 생성(선언)\n",
    "knn = KNeighborsClassifier(n_neighbors = k)\n",
    "# 이전에 생성한 KNN 분류기에 개 몸데이터와 각 데이터의 레이블 입력해 학습\n",
    "knn.fit(dogs, labels)\n",
    "# 학습된 knn모델에 새로운 데이터의 예측값 분석하게 하여 y_pred에 저장\n",
    "y_pred = knn.predict(newdata)\n",
    "# y_pred에 저장된 데이터 출력\n",
    "print('데이터: {}에 대한 판정결과는: {}입니다.'.format(newdata, dog_classes[y_pred[0]]))\n",
    "\n",
    "# 다른 데이터도 학습\n",
    "otherdata = [[77, 30], [75, 56]]\n",
    "y_pred_n = knn.predict(otherdata)\n",
    "print('데이터: {}에 대한 판정결과는: {}입니다.'.format(otherdata, dog_classes[y_pred_n[0]]+'와 '+dog_classes[y_pred_n[1]]))"
   ]
  },
  {
   "cell_type": "code",
   "execution_count": 8,
   "id": "collect-elder",
   "metadata": {},
   "outputs": [
    {
     "data": {
      "text/plain": [
       "array([[5.1, 3.5, 1.4, 0.2],\n",
       "       [4.9, 3. , 1.4, 0.2],\n",
       "       [4.7, 3.2, 1.3, 0.2],\n",
       "       [4.6, 3.1, 1.5, 0.2],\n",
       "       [5. , 3.6, 1.4, 0.2]])"
      ]
     },
     "execution_count": 8,
     "metadata": {},
     "output_type": "execute_result"
    }
   ],
   "source": [
    "# sklearn패키지의 데이터 셋인 load_iris를 iris변수에 저장\n",
    "iris = load_iris()\n",
    "# 제대로 저장되었는지 확인을 위해 앞의 5개 데이터만 출력\n",
    "iris.data[:5]"
   ]
  },
  {
   "cell_type": "code",
   "execution_count": 9,
   "id": "coupled-bottle",
   "metadata": {},
   "outputs": [
    {
     "data": {
      "text/html": [
       "<div>\n",
       "<style scoped>\n",
       "    .dataframe tbody tr th:only-of-type {\n",
       "        vertical-align: middle;\n",
       "    }\n",
       "\n",
       "    .dataframe tbody tr th {\n",
       "        vertical-align: top;\n",
       "    }\n",
       "\n",
       "    .dataframe thead th {\n",
       "        text-align: right;\n",
       "    }\n",
       "</style>\n",
       "<table border=\"1\" class=\"dataframe\">\n",
       "  <thead>\n",
       "    <tr style=\"text-align: right;\">\n",
       "      <th></th>\n",
       "      <th>sepal length (cm)</th>\n",
       "      <th>sepal width (cm)</th>\n",
       "      <th>petal length (cm)</th>\n",
       "      <th>petal width (cm)</th>\n",
       "      <th>target</th>\n",
       "    </tr>\n",
       "  </thead>\n",
       "  <tbody>\n",
       "    <tr>\n",
       "      <th>0</th>\n",
       "      <td>5.1</td>\n",
       "      <td>3.5</td>\n",
       "      <td>1.4</td>\n",
       "      <td>0.2</td>\n",
       "      <td>0</td>\n",
       "    </tr>\n",
       "    <tr>\n",
       "      <th>1</th>\n",
       "      <td>4.9</td>\n",
       "      <td>3.0</td>\n",
       "      <td>1.4</td>\n",
       "      <td>0.2</td>\n",
       "      <td>0</td>\n",
       "    </tr>\n",
       "    <tr>\n",
       "      <th>2</th>\n",
       "      <td>4.7</td>\n",
       "      <td>3.2</td>\n",
       "      <td>1.3</td>\n",
       "      <td>0.2</td>\n",
       "      <td>0</td>\n",
       "    </tr>\n",
       "    <tr>\n",
       "      <th>3</th>\n",
       "      <td>4.6</td>\n",
       "      <td>3.1</td>\n",
       "      <td>1.5</td>\n",
       "      <td>0.2</td>\n",
       "      <td>0</td>\n",
       "    </tr>\n",
       "    <tr>\n",
       "      <th>4</th>\n",
       "      <td>5.0</td>\n",
       "      <td>3.6</td>\n",
       "      <td>1.4</td>\n",
       "      <td>0.2</td>\n",
       "      <td>0</td>\n",
       "    </tr>\n",
       "  </tbody>\n",
       "</table>\n",
       "</div>"
      ],
      "text/plain": [
       "   sepal length (cm)  sepal width (cm)  petal length (cm)  petal width (cm)  \\\n",
       "0                5.1               3.5                1.4               0.2   \n",
       "1                4.9               3.0                1.4               0.2   \n",
       "2                4.7               3.2                1.3               0.2   \n",
       "3                4.6               3.1                1.5               0.2   \n",
       "4                5.0               3.6                1.4               0.2   \n",
       "\n",
       "   target  \n",
       "0       0  \n",
       "1       0  \n",
       "2       0  \n",
       "3       0  \n",
       "4       0  "
      ]
     },
     "execution_count": 9,
     "metadata": {},
     "output_type": "execute_result"
    }
   ],
   "source": [
    "# iris.data 와 iris.feature_names로 데이터 프레임 생성\n",
    "iris_df = pd.DataFrame(iris.data, columns = iris.feature_names)\n",
    "# 생성한 데이터프레임에 추가로 iris데이터의 'target'이라는 데이터도 가져와 해당 데이터프레임의 열로 추가\n",
    "iris_df['target'] = pd.Series(iris.target)\n",
    "# 생성한 데이터프레임 5개의 행만 요약\n",
    "iris_df.head()"
   ]
  },
  {
   "cell_type": "code",
   "execution_count": 10,
   "id": "metropolitan-tobago",
   "metadata": {},
   "outputs": [
    {
     "data": {
      "text/html": [
       "<div>\n",
       "<style scoped>\n",
       "    .dataframe tbody tr th:only-of-type {\n",
       "        vertical-align: middle;\n",
       "    }\n",
       "\n",
       "    .dataframe tbody tr th {\n",
       "        vertical-align: top;\n",
       "    }\n",
       "\n",
       "    .dataframe thead th {\n",
       "        text-align: right;\n",
       "    }\n",
       "</style>\n",
       "<table border=\"1\" class=\"dataframe\">\n",
       "  <thead>\n",
       "    <tr style=\"text-align: right;\">\n",
       "      <th></th>\n",
       "      <th>sepal length (cm)</th>\n",
       "      <th>sepal width (cm)</th>\n",
       "      <th>petal length (cm)</th>\n",
       "      <th>petal width (cm)</th>\n",
       "      <th>target</th>\n",
       "    </tr>\n",
       "  </thead>\n",
       "  <tbody>\n",
       "    <tr>\n",
       "      <th>count</th>\n",
       "      <td>150.000000</td>\n",
       "      <td>150.000000</td>\n",
       "      <td>150.000000</td>\n",
       "      <td>150.000000</td>\n",
       "      <td>150.000000</td>\n",
       "    </tr>\n",
       "    <tr>\n",
       "      <th>mean</th>\n",
       "      <td>5.843333</td>\n",
       "      <td>3.057333</td>\n",
       "      <td>3.758000</td>\n",
       "      <td>1.199333</td>\n",
       "      <td>1.000000</td>\n",
       "    </tr>\n",
       "    <tr>\n",
       "      <th>std</th>\n",
       "      <td>0.828066</td>\n",
       "      <td>0.435866</td>\n",
       "      <td>1.765298</td>\n",
       "      <td>0.762238</td>\n",
       "      <td>0.819232</td>\n",
       "    </tr>\n",
       "    <tr>\n",
       "      <th>min</th>\n",
       "      <td>4.300000</td>\n",
       "      <td>2.000000</td>\n",
       "      <td>1.000000</td>\n",
       "      <td>0.100000</td>\n",
       "      <td>0.000000</td>\n",
       "    </tr>\n",
       "    <tr>\n",
       "      <th>25%</th>\n",
       "      <td>5.100000</td>\n",
       "      <td>2.800000</td>\n",
       "      <td>1.600000</td>\n",
       "      <td>0.300000</td>\n",
       "      <td>0.000000</td>\n",
       "    </tr>\n",
       "    <tr>\n",
       "      <th>50%</th>\n",
       "      <td>5.800000</td>\n",
       "      <td>3.000000</td>\n",
       "      <td>4.350000</td>\n",
       "      <td>1.300000</td>\n",
       "      <td>1.000000</td>\n",
       "    </tr>\n",
       "    <tr>\n",
       "      <th>75%</th>\n",
       "      <td>6.400000</td>\n",
       "      <td>3.300000</td>\n",
       "      <td>5.100000</td>\n",
       "      <td>1.800000</td>\n",
       "      <td>2.000000</td>\n",
       "    </tr>\n",
       "    <tr>\n",
       "      <th>max</th>\n",
       "      <td>7.900000</td>\n",
       "      <td>4.400000</td>\n",
       "      <td>6.900000</td>\n",
       "      <td>2.500000</td>\n",
       "      <td>2.000000</td>\n",
       "    </tr>\n",
       "  </tbody>\n",
       "</table>\n",
       "</div>"
      ],
      "text/plain": [
       "       sepal length (cm)  sepal width (cm)  petal length (cm)  \\\n",
       "count         150.000000        150.000000         150.000000   \n",
       "mean            5.843333          3.057333           3.758000   \n",
       "std             0.828066          0.435866           1.765298   \n",
       "min             4.300000          2.000000           1.000000   \n",
       "25%             5.100000          2.800000           1.600000   \n",
       "50%             5.800000          3.000000           4.350000   \n",
       "75%             6.400000          3.300000           5.100000   \n",
       "max             7.900000          4.400000           6.900000   \n",
       "\n",
       "       petal width (cm)      target  \n",
       "count        150.000000  150.000000  \n",
       "mean           1.199333    1.000000  \n",
       "std            0.762238    0.819232  \n",
       "min            0.100000    0.000000  \n",
       "25%            0.300000    0.000000  \n",
       "50%            1.300000    1.000000  \n",
       "75%            1.800000    2.000000  \n",
       "max            2.500000    2.000000  "
      ]
     },
     "execution_count": 10,
     "metadata": {},
     "output_type": "execute_result"
    }
   ],
   "source": [
    "# 생성한 데이터프레임 요약\n",
    "iris_df.describe()"
   ]
  },
  {
   "cell_type": "code",
   "execution_count": 11,
   "id": "charged-learning",
   "metadata": {},
   "outputs": [],
   "source": [
    "# x는 레이블 데이터를 제외한 데이터 y는 레이블 데이터로 구분\n",
    "X = iris_df.iloc[:, :4]\n",
    "y = iris_df.iloc[:, -1]"
   ]
  },
  {
   "cell_type": "code",
   "execution_count": 12,
   "id": "satisfactory-illinois",
   "metadata": {},
   "outputs": [
    {
     "name": "stdout",
     "output_type": "stream",
     "text": [
      "n_neighbors가 3일때 정확도: 0.956\n"
     ]
    }
   ],
   "source": [
    "# KNN 모델 성능 점수 알려주는 함수 생성\n",
    "def iris_knn(X, y, k):\n",
    "    # train_test_split함수를 활용하여 데이터를 훈련데이터와 검증데이터로 구분\n",
    "    X_train, X_test, y_train, y_test = train_test_split(X, y, test_size=0.3)\n",
    "    # knn 모델 선언 (입력받은 k로 k값 지정)\n",
    "    knn = KNeighborsClassifier(n_neighbors = k)\n",
    "    # 훈련데이터를 학습 (입력값은 데이터,레이블 형식으로 입력)\n",
    "    knn.fit(X_train, y_train)\n",
    "    # 훈련데이터로 학습시킨 knn모델을 활용하여 검증데이터 검증\n",
    "    y_pred = knn.predict(X_test)\n",
    "    # 검증데이터들을 예측한 레이블값인 y_pred와 실제 레이블인 y_test간의 오차(정확도) 추정값 리턴\n",
    "    return metrics.accuracy_score(y_test, y_pred)\n",
    "\n",
    "# 훈련 범위를 3으로 지정\n",
    "k = 3\n",
    "# 모델 정확도 리턴하는 함수 실행\n",
    "scores = iris_knn(X, y, k)\n",
    "# 모델 정확도 점수 출력\n",
    "print('n_neighbors가 {0:d}일때 정확도: {1:.3f}'.format(k, scores))"
   ]
  },
  {
   "cell_type": "code",
   "execution_count": 13,
   "id": "organized-reynolds",
   "metadata": {},
   "outputs": [
    {
     "data": {
      "text/plain": [
       "KNeighborsClassifier(n_neighbors=3)"
      ]
     },
     "execution_count": 13,
     "metadata": {},
     "output_type": "execute_result"
    }
   ],
   "source": [
    "# 번외 - 훈련데이터와 검증데이터를 나누어 학습시키지 않고 모델 학습\n",
    "# 데이터 불러와 저장\n",
    "iris = load_iris()\n",
    "# 훈련 범위 3으로 지정\n",
    "k = 3\n",
    "# knn모델 선언\n",
    "knn = KNeighborsClassifier(n_neighbors = k)\n",
    "# iris데이터로 모델 학습\n",
    "knn.fit(iris.data, iris.target)"
   ]
  },
  {
   "cell_type": "code",
   "execution_count": 14,
   "id": "tired-console",
   "metadata": {},
   "outputs": [
    {
     "name": "stdout",
     "output_type": "stream",
     "text": [
      "[4, 2, 1.3, 0.4] 특성을 가지는 품종: Setosa\n",
      "[4, 3, 3.2, 2.2] 특성을 가지는 품종: Versicolor\n"
     ]
    }
   ],
   "source": [
    "# 이전에 학습한 k-NN 분류기 모델을 활용하여 새로운 데이터를 가지고 예측시행\n",
    "\n",
    "# 출력용 레이블 생성\n",
    "classes = {0:'Setosa', 1:'Versicolor', 2:'Virginica'}\n",
    "\n",
    "#새로운 데이터 저장\n",
    "x = [[4, 2, 1.3, 0.4], [4, 3, 3.2, 2.2]]\n",
    "\n",
    "# 분류기 모델 실행\n",
    "y = knn.predict(x)\n",
    "\n",
    "# 분류 결과들 출력\n",
    "for a in range(len(x)):\n",
    "    print('{} 특성을 가지는 품종: {}'.format(x[a], classes[y[a]]))"
   ]
  },
  {
   "cell_type": "code",
   "execution_count": 15,
   "id": "maritime-excuse",
   "metadata": {},
   "outputs": [
    {
     "name": "stdout",
     "output_type": "stream",
     "text": [
      "n_neighbors가 3일때 정확도 0.960\n"
     ]
    }
   ],
   "source": [
    "# 전체 데이터와 비교해서 정확도 출력\n",
    "# 전체 데이터에 대한 분류 모델을 활용한 예측\n",
    "y_pred_all = knn.predict(iris.data)\n",
    "# 예측한 데이터와 실제 데이터간 정확도 비교\n",
    "scores = metrics.accuracy_score(iris.target, y_pred_all)\n",
    "\n",
    "# 정활도 출력\n",
    "print('n_neighbors가 {0:d}일때 정확도 {1:.3f}'.format(k, scores))\n",
    "# 분명 학습에 들어간 데이터를 가지고 다시 예측을 돌렸음에도 예측에 실패한 데이터도 존재하다는 것을 확인"
   ]
  },
  {
   "cell_type": "code",
   "execution_count": 16,
   "id": "hollow-cross",
   "metadata": {},
   "outputs": [
    {
     "data": {
      "text/plain": [
       "(array([[50.,  0.,  0.],\n",
       "        [ 0., 47.,  3.],\n",
       "        [ 0.,  3., 47.]]),\n",
       " array([0.        , 0.66666667, 1.33333333, 2.        ]),\n",
       " array([0.        , 0.66666667, 1.33333333, 2.        ]),\n",
       " <matplotlib.collections.QuadMesh at 0x7f30ad31d730>)"
      ]
     },
     "execution_count": 16,
     "metadata": {},
     "output_type": "execute_result"
    },
    {
     "data": {
      "image/png": "[encoded data removed]",
      "text/plain": [
       "<Figure size 432x288 with 1 Axes>"
      ]
     },
     "metadata": {
      "needs_background": "light"
     },
     "output_type": "display_data"
    }
   ],
   "source": [
    "# 결과에 대해 정답과 예측을 쌍으로 2차원 히스토그램 생성\n",
    "plt.hist2d(iris.target, y_pred_all, bins=(3,3), cmap=plt.cm.jet)"
   ]
  },
  {
   "cell_type": "code",
   "execution_count": 17,
   "id": "quick-revelation",
   "metadata": {},
   "outputs": [
    {
     "data": {
      "text/plain": [
       "(array([[50.,  0.,  0.],\n",
       "        [ 0., 47.,  3.],\n",
       "        [ 0.,  3., 47.]]),\n",
       " array([0.        , 0.66666667, 1.33333333, 2.        ]),\n",
       " array([0.        , 0.66666667, 1.33333333, 2.        ]),\n",
       " <matplotlib.collections.QuadMesh at 0x7f30ad300040>)"
      ]
     },
     "execution_count": 17,
     "metadata": {},
     "output_type": "execute_result"
    },
    {
     "data": {
      "image/png": "[encoded data removed]",
      "text/plain": [
       "<Figure size 432x288 with 1 Axes>"
      ]
     },
     "metadata": {
      "needs_background": "light"
     },
     "output_type": "display_data"
    }
   ],
   "source": [
    "# 결과에 대해 정답과 예측을 쌍으로 2차원 히스토그램 생성\n",
    "plt.hist2d(iris.target, y_pred_all, bins=(3,3), cmap=plt.cm.gray)"
   ]
  },
  {
   "cell_type": "code",
   "execution_count": 18,
   "id": "backed-arabic",
   "metadata": {},
   "outputs": [
    {
     "data": {
      "text/plain": [
       "array([[50,  0,  0],\n",
       "       [ 0, 47,  3],\n",
       "       [ 0,  3, 47]])"
      ]
     },
     "execution_count": 18,
     "metadata": {},
     "output_type": "execute_result"
    }
   ],
   "source": [
    "# 위의 시각화 결과를 혼동 행렬(confusion matrix)이라는 이름으로 구현가능\n",
    "conf_mat = confusion_matrix(iris.target, y_pred_all)\n",
    "conf_mat"
   ]
  },
  {
   "cell_type": "code",
   "execution_count": 19,
   "id": "combined-glass",
   "metadata": {},
   "outputs": [
    {
     "data": {
      "text/plain": [
       "<matplotlib.collections.PathCollection at 0x7f30ad2ada30>"
      ]
     },
     "execution_count": 19,
     "metadata": {},
     "output_type": "execute_result"
    },
    {
     "data": {
      "image/png": "[encoded data removed]",
      "text/plain": [
       "<Figure size 432x288 with 1 Axes>"
      ]
     },
     "metadata": {
      "needs_background": "light"
     },
     "output_type": "display_data"
    }
   ],
   "source": [
    "# 군집화 k-평균 모델\n",
    "# 개의 길이와 높이를 각각 ndarray 형태로 만들기\n",
    "dog_length = np.array(dach_length + samo_length)\n",
    "dog_height = np.array(dach_height + samo_height)\n",
    "\n",
    "# 길이와 높이를 하나의 데이터로 형성\n",
    "dog_data = np.column_stack((dog_length, dog_height))\n",
    "\n",
    "# 생성한 데이터 분포 확인\n",
    "plt.title(\"Dog data without label\")\n",
    "plt.scatter(dog_length, dog_height)"
   ]
  },
  {
   "cell_type": "code",
   "execution_count": 20,
   "id": "accomplished-father",
   "metadata": {},
   "outputs": [
    {
     "data": {
      "image/png": "[encoded data removed]",
      "text/plain": [
       "<Figure size 432x288 with 1 Axes>"
      ]
     },
     "metadata": {
      "needs_background": "light"
     },
     "output_type": "display_data"
    }
   ],
   "source": [
    "# k-평균 모델 함수 선언\n",
    "def kmeans_predict_plot(X,k):\n",
    "    # k-평균 모델 선언 (이때 군집 크기는 k만큼)\n",
    "    model = cluster.KMeans(n_clusters = k)\n",
    "    # 입력받은 x로 모델 학습\n",
    "    model.fit(X)\n",
    "    # 모델이 분류한 라벨들 저장\n",
    "    labels = model.predict(X)\n",
    "    # 분류한 라벨에 지정하기 위한 색 배열 저장\n",
    "    colors = np.array(['red', 'green', 'blue', 'magenta'])\n",
    "    # 모델이 분류한 데이터 표시\n",
    "    plt.suptitle('k-Means clustering, k={}'.format(k))\n",
    "    plt.scatter(X[:, 0], X[:, 1], color=colors[labels])\n",
    "    \n",
    "# 집단이 2개일때\n",
    "kmeans_predict_plot(dog_data, k=2)"
   ]
  },
  {
   "cell_type": "code",
   "execution_count": 21,
   "id": "monthly-nevada",
   "metadata": {},
   "outputs": [
    {
     "data": {
      "image/png": "[encoded data removed]",
      "text/plain": [
       "<Figure size 432x288 with 1 Axes>"
      ]
     },
     "metadata": {
      "needs_background": "light"
     },
     "output_type": "display_data"
    }
   ],
   "source": [
    "# 집단이 3개일때\n",
    "kmeans_predict_plot(dog_data, k=3)"
   ]
  },
  {
   "cell_type": "code",
   "execution_count": 22,
   "id": "wireless-yahoo",
   "metadata": {},
   "outputs": [
    {
     "data": {
      "image/png": "[encoded data removed]",
      "text/plain": [
       "<Figure size 432x288 with 1 Axes>"
      ]
     },
     "metadata": {
      "needs_background": "light"
     },
     "output_type": "display_data"
    }
   ],
   "source": [
    "# 집단이 4개일때\n",
    "kmeans_predict_plot(dog_data, k=4)"
   ]
  },
  {
   "cell_type": "code",
   "execution_count": 23,
   "id": "southern-filename",
   "metadata": {},
   "outputs": [],
   "source": [
    "# iris데이터\n",
    "iris = load_iris()\n",
    "# iris.data 와 iris.feature_names로 데이터 프레임 생성\n",
    "iris_df = pd.DataFrame(iris.data, columns = iris.feature_names)\n",
    "# 생성한 데이터프레임에 추가로 iris데이터의 'target'이라는 데이터도 가져와 해당 데이터프레임의 열로 추가\n",
    "iris_df['target'] = pd.Series(iris.target)\n",
    "\n",
    "# iris 데이터\n",
    "X = iris_df.iloc[:, :4]\n",
    "# iris 레이블\n",
    "y = iris_df.iloc[:, -1]\n",
    "\n",
    "# k-평균 모델 함수\n",
    "def kmeans_predict(X,k):\n",
    "    # k-평균 모델 선언 (이때 군집 크기는 k만큼)\n",
    "    model = cluster.KMeans(n_clusters = k)\n",
    "    # 입력받은 x로 모델 학습\n",
    "    model.fit(X)\n",
    "    # 모델이 분류한 라벨들 저장\n",
    "    labels = model.predict(X)\n",
    "    return labels\n",
    "\n",
    "# k-평균 모델 결과값 저장\n",
    "labels = kmeans_predict(X,3)"
   ]
  },
  {
   "cell_type": "code",
   "execution_count": 24,
   "id": "excessive-independence",
   "metadata": {},
   "outputs": [],
   "source": [
    "# 다시 제대로 레이블링 (setosa(0), versicolor(1), virginica(2))\n",
    "n_label = []\n",
    "for a in labels:\n",
    "    if a == 0:\n",
    "        n_label.append(1)\n",
    "    elif a == 1:\n",
    "        n_label.append(0)\n",
    "    else:\n",
    "        n_label.append(2)\n",
    "\n",
    "# 정확도 추출 함수\n",
    "scores = metrics.accuracy_score(iris.target, n_label)"
   ]
  },
  {
   "cell_type": "code",
   "execution_count": 25,
   "id": "public-portable",
   "metadata": {},
   "outputs": [
    {
     "name": "stdout",
     "output_type": "stream",
     "text": [
      "kMenas() 군집화 적용\n",
      "군집화 결과 labels = [1 1 1 1 1 1 1 1 1 1 1 1 1 1 1 1 1 1 1 1 1 1 1 1 1 1 1 1 1 1 1 1 1 1 1 1 1\n",
      " 1 1 1 1 1 1 1 1 1 1 1 1 1 2 2 0 2 2 2 2 2 2 2 2 2 2 2 2 2 2 2 2 2 2 2 2 2\n",
      " 2 2 2 0 2 2 2 2 2 2 2 2 2 2 2 2 2 2 2 2 2 2 2 2 2 2 0 2 0 0 0 0 2 0 0 0 0\n",
      " 0 0 2 2 0 0 0 0 2 0 2 0 2 0 0 2 2 0 0 0 0 0 2 0 0 0 0 2 0 0 0 2 0 0 0 2 0\n",
      " 0 2]\n",
      "다시 레이블링을 한 후의 new_labels = [0, 0, 0, 0, 0, 0, 0, 0, 0, 0, 0, 0, 0, 0, 0, 0, 0, 0, 0, 0, 0, 0, 0, 0, 0, 0, 0, 0, 0, 0, 0, 0, 0, 0, 0, 0, 0, 0, 0, 0, 0, 0, 0, 0, 0, 0, 0, 0, 0, 0, 2, 2, 1, 2, 2, 2, 2, 2, 2, 2, 2, 2, 2, 2, 2, 2, 2, 2, 2, 2, 2, 2, 2, 2, 2, 2, 2, 1, 2, 2, 2, 2, 2, 2, 2, 2, 2, 2, 2, 2, 2, 2, 2, 2, 2, 2, 2, 2, 2, 2, 1, 2, 1, 1, 1, 1, 2, 1, 1, 1, 1, 1, 1, 2, 2, 1, 1, 1, 1, 2, 1, 2, 1, 2, 1, 1, 2, 2, 1, 1, 1, 1, 1, 2, 1, 1, 1, 1, 2, 1, 1, 1, 2, 1, 1, 1, 2, 1, 1, 2]\n",
      "iris 데이터의 군집화 정확도: 0.44\n"
     ]
    }
   ],
   "source": [
    "# 결과들 출력\n",
    "print(\"kMenas() 군집화 적용\")\n",
    "print(\"군집화 결과 labels = {}\".format(labels))\n",
    "print(\"다시 레이블링을 한 후의 new_labels = {}\".format(n_label))\n",
    "print(\"iris 데이터의 군집화 정확도: {}\".format(scores))"
   ]
  }
 ],
 "metadata": {
  "kernelspec": {
   "display_name": "Python 3",
   "language": "python",
   "name": "python3"
  },
  "language_info": {
   "codemirror_mode": {
    "name": "ipython",
    "version": 3
   },
   "file_extension": ".py",
   "mimetype": "text/x-python",
   "name": "python",
   "nbconvert_exporter": "python",
   "pygments_lexer": "ipython3",
   "version": "3.8.6"
  },
  "widgets": {
   "application/vnd.jupyter.widget-state+json": {
    "state": {},
    "version_major": 2,
    "version_minor": 0
   }
  }
 },
 "nbformat": 4,
 "nbformat_minor": 5
}
