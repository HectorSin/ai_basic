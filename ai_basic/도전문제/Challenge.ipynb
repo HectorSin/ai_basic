{
 "cells": [
  {
   "cell_type": "code",
   "execution_count": 1,
   "metadata": {},
   "outputs": [
    {
     "name": "stdout",
     "output_type": "stream",
     "text": [
      "경상남도\n",
      "창원시 의창구 사림동\n",
      "창원대학로 20-1, 대학본부\n"
     ]
    }
   ],
   "source": [
    "# 6.1_1 def 예약어를 이용하여 함수를 작성하고 호출하기\n",
    "#\n",
    "def print_company_address() :\n",
    "    print('경상남도')\n",
    "    print('창원시 의창구 사림동')\n",
    "    print('창원대학로 20-1, 대학본부')\n",
    "\n",
    "print_company_address()  # 정의한 함수를 호출"
   ]
  },
  {
   "cell_type": "code",
   "execution_count": 2,
   "metadata": {},
   "outputs": [
    {
     "name": "stdout",
     "output_type": "stream",
     "text": [
      "********************\n",
      "********************\n",
      "********************\n",
      "********************\n",
      "********************\n"
     ]
    }
   ],
   "source": [
    "# 6.1_2 def 예약어를 이용하여 함수를 작성하고 호출하기\n",
    "#\n",
    "def print_star() :\n",
    "    print('********************')\n",
    "\n",
    "print_star()\n",
    "print_star()\n",
    "print_star()\n",
    "print_star()\n",
    "print_star()"
   ]
  },
  {
   "cell_type": "code",
   "execution_count": 3,
   "metadata": {},
   "outputs": [
    {
     "name": "stdout",
     "output_type": "stream",
     "text": [
      "이름 : 홍길순\n",
      "주소: 부산광역시 남구 광안로 10번길 1-1\n"
     ]
    }
   ],
   "source": [
    "# 6.2 함수에 하나의 값을 넘겨주고 일을 시키자\n",
    "#\n",
    "def print_address(name, address) :\n",
    "    print('이름 :', name)\n",
    "    print('주소:', address)\n",
    "\n",
    "print_address(\"홍길순\", \"부산광역시 남구 광안로 10번길 1-1\")"
   ]
  },
  {
   "cell_type": "code",
   "execution_count": 4,
   "metadata": {},
   "outputs": [
    {
     "name": "stdout",
     "output_type": "stream",
     "text": [
      "1 제곱: 1, 2 제곱: 4, 3 제곱: 9\n"
     ]
    }
   ],
   "source": [
    "# 6.3 여러 개의 값을 넘겨주고 여러 개의 값을 돌려받자\n",
    "\n",
    "def get_square(a,b,c):\n",
    "    return a**2, b**2, c**2\n",
    "\n",
    "a, b, c = 1, 2, 3\n",
    "a_sq, b_sq, c_sq = get_square(a,b,c)\n",
    "print(f\"{a} 제곱: {a_sq}, {b} 제곱: {b_sq}, {c} 제곱: {c_sq}\")"
   ]
  },
  {
   "cell_type": "code",
   "execution_count": 7,
   "metadata": {},
   "outputs": [
    {
     "name": "stdout",
     "output_type": "stream",
     "text": [
      "3\n"
     ]
    }
   ],
   "source": [
    "# 6.4 피보나치 함수 계산하기\n",
    "\n",
    "def fibonacci(n):\n",
    "    if n < 2:\n",
    "        return n\n",
    "    \n",
    "    a, b = 0, 1\n",
    "    for _ in range(n-1):\n",
    "        a, b = b, a + b\n",
    "        \n",
    "    return b\n",
    "\n",
    "i = int(input(\"몇 번째 항: \"))\n",
    "print(fibonacci(i-1))"
   ]
  },
  {
   "cell_type": "code",
   "execution_count": 8,
   "metadata": {},
   "outputs": [
    {
     "name": "stdout",
     "output_type": "stream",
     "text": [
      "True\n"
     ]
    }
   ],
   "source": [
    "# 7.1 리스트 연산을 해보자\n",
    "\n",
    "black_pink = ['Jisoo', 'Jennie', 'Rose', 'Lisa']\n",
    "print('Jennie' in black_pink)"
   ]
  },
  {
   "cell_type": "code",
   "execution_count": 9,
   "metadata": {},
   "outputs": [
    {
     "name": "stdout",
     "output_type": "stream",
     "text": [
      "False\n"
     ]
    }
   ],
   "source": [
    "# 7.1_2 리스트 연산을 해보자\n",
    "print('Psy' in black_pink)"
   ]
  },
  {
   "cell_type": "code",
   "execution_count": 11,
   "metadata": {},
   "outputs": [
    {
     "name": "stdout",
     "output_type": "stream",
     "text": [
      "[2:3]\n",
      "[6]\n",
      "[1:3]\n",
      "[5, 6]\n",
      "[:3]\n",
      "[4, 5, 6]\n",
      "[1::2]\n",
      "[5, 7, 9]\n",
      "[0::3]\n",
      "[4, 7]\n"
     ]
    }
   ],
   "source": [
    "# 7.2 리스트를 원하는 모양으로 자르는 슬라이싱\n",
    "\n",
    "numbers = [4,5,6,7,8,9]\n",
    "\n",
    "# 1\n",
    "print('[2:3]')\n",
    "print(numbers[2:3])\n",
    "\n",
    "# 2\n",
    "print('[1:3]')\n",
    "print(numbers[1:3])\n",
    "\n",
    "# 3\n",
    "print('[:3]')\n",
    "print(numbers[:3])\n",
    "\n",
    "# 4\n",
    "print('[1::2]')\n",
    "print(numbers[1::2])\n",
    "\n",
    "# 5\n",
    "print('[0::3]')\n",
    "print(numbers[0::3])"
   ]
  },
  {
   "cell_type": "code",
   "execution_count": 13,
   "metadata": {},
   "outputs": [
    {
     "name": "stdout",
     "output_type": "stream",
     "text": [
      "P\n",
      "strong\n",
      "Python\n",
      "is\n"
     ]
    }
   ],
   "source": [
    "# 7.3 도시의 인구 자료에 대한 슬라이싱을 해보자\n",
    "\n",
    "s = \"Python is strong\"\n",
    "\n",
    "# 1\n",
    "print(s[0:1])\n",
    "\n",
    "# 2\n",
    "print(s[-6:])\n",
    "\n",
    "# 3\n",
    "print(s[:6])\n",
    "\n",
    "# 4\n",
    "print(s[7:9])"
   ]
  },
  {
   "cell_type": "code",
   "execution_count": 18,
   "metadata": {},
   "outputs": [
    {
     "name": "stdout",
     "output_type": "stream",
     "text": [
      "######################################\n",
      "############오늘의 수학문제############\n",
      "######################################\n",
      "\n",
      "142857 * 7 = 999999\n"
     ]
    }
   ],
   "source": [
    "# 7.4 오늘의 명언을 골라주는 기능을 만들자\n",
    "\n",
    "import random\n",
    "\n",
    "express = []\n",
    "express.append(\"1 + 2\")\n",
    "express.append(\"341 - 154\")\n",
    "express.append(\"514 * 516\") \n",
    "express.append(\"516 / 4\") \n",
    "express.append(\"5151 + 1541\")\n",
    "express.append(\"65411 - 65156\") \n",
    "express.append(\"12345679 * 81\") \n",
    "express.append(\"142857 * 7\") \n",
    "express.append(\"10761 - 9999\") \n",
    "express.append(\"1577 - 1577\")\n",
    "\n",
    "print(\"######################################\")\n",
    "print(\"#\"*12+\"오늘의 수학문제\"+\"#\"*12)\n",
    "print(\"######################################\")\n",
    "print(\"\")\n",
    "dailyQuiz = random.choice(express)\n",
    "print(dailyQuiz, '=', eval(dailyQuiz))"
   ]
  },
  {
   "cell_type": "code",
   "execution_count": 1,
   "metadata": {},
   "outputs": [
    {
     "name": "stdout",
     "output_type": "stream",
     "text": [
      "Last : 흥\n",
      "First : 길동\n",
      "Company : 창원대학교\n"
     ]
    }
   ],
   "source": [
    "# 8.1 딕셔너리의 기능을 알아보자\n",
    "\n",
    "person_dic = {'Last': '흥', 'First': '길동', 'Company': '창원대학교'}\n",
    "for key, value in person_dic.items():\n",
    "    print(key,':', value)"
   ]
  },
  {
   "cell_type": "code",
   "execution_count": 1,
   "metadata": {},
   "outputs": [
    {
     "name": "stdout",
     "output_type": "stream",
     "text": [
      "재고 : 7\n",
      "프로그램을 종료합니다.\n"
     ]
    }
   ],
   "source": [
    "# 8.2 편의점 재고 관리 프로그램을 만들자\n",
    "\n",
    "items = {\"커피음료\": 7, \"펜\": 3, \"종이컵\": 2, \"우유\": 1, \"콜라\": 4, \"책\": 5}\n",
    "\n",
    "while True:\n",
    "    option = int(input(\"메뉴를 선택하시오 1) 재고조회 2) 입고 3) 출고 4) 종료: \"))\n",
    "    if option == 1:\n",
    "        name = input(\"[재고조회] 물건의 이름을 입력하시오: \")\n",
    "        print('재고 :', items[name])\n",
    "    if option == 2:\n",
    "        name, count = input(\"[입고] 물건의 이름과 수량을 입력하시오 : \").split()\n",
    "        items[name] += int(count)\n",
    "    if option == 3:\n",
    "        name, count = input(\"[출고] 물건의 이름과 수량을 입력하시오 : \").split()\n",
    "        items[name] -= int(count)\n",
    "    if option == 4:\n",
    "        print('프로그램을 종료합니다.')\n",
    "        break"
   ]
  },
  {
   "cell_type": "code",
   "execution_count": 4,
   "metadata": {},
   "outputs": [
    {
     "name": "stdout",
     "output_type": "stream",
     "text": [
      "파티 A에만 참석한 사람 : kim Lee "
     ]
    }
   ],
   "source": [
    "# 8.3 파티 동시 참석자 알아내기\n",
    "\n",
    "partyA = set([\"Park\", \"kim\", \"Lee\"])\n",
    "partyB = set([\"Park\", \"Choi\"])\n",
    "\n",
    "print(\"파티 A에만 참석한 사람 : \", end=\"\")\n",
    "for x in partyA.difference(partyB):\n",
    "    print(x, end=\" \")\n"
   ]
  },
  {
   "cell_type": "code",
   "execution_count": 8,
   "metadata": {},
   "outputs": [
    {
     "name": "stdout",
     "output_type": "stream",
     "text": [
      "[article] 200820 blackpink jennie is regarded to have great effect on * mystic red as it was chosen by 50% of those who prebooked for the * galaxy note 20 ( * u+ mystic pink 30%, * mystic blue not disclosed)  \n"
     ]
    }
   ],
   "source": [
    "# 9.1 게시글에서 kt, samsung, lg, skt를 찾아 *로 모자이크 처리하기\n",
    "\n",
    "t = '[ARTICLE] 200820 BLACKPINK Jennie is regarded to have great effect on KT Mystic \\\n",
    "Red as it was chosen by 50% of those who prebooked for the Samsung Galaxy Note 20 ( LG \\\n",
    "U+ Mystic Pink 30%, SKT Mystic Blue not disclosed) '\n",
    "\n",
    "low_t = t.lower()\n",
    "t = ''\n",
    "for word in low_t.split(' '):\n",
    "    if word == 'kt' or word == 'samsung' or word == 'lg' or word == 'skt':\n",
    "        t += '* '\n",
    "    else:\n",
    "        t += word + ' '\n",
    "        \n",
    "print(t)"
   ]
  },
  {
   "cell_type": "code",
   "execution_count": null,
   "metadata": {},
   "outputs": [],
   "source": []
  }
 ],
 "metadata": {
  "kernelspec": {
   "display_name": "Python 3",
   "language": "python",
   "name": "python3"
  },
  "language_info": {
   "codemirror_mode": {
    "name": "ipython",
    "version": 3
   },
   "file_extension": ".py",
   "mimetype": "text/x-python",
   "name": "python",
   "nbconvert_exporter": "python",
   "pygments_lexer": "ipython3",
   "version": "3.10.7"
  },
  "orig_nbformat": 4,
  "vscode": {
   "interpreter": {
    "hash": "3196968d684371006099b3d55edeef8ed90365227a30deaef86e5d4aa8519be0"
   }
  }
 },
 "nbformat": 4,
 "nbformat_minor": 2
}
